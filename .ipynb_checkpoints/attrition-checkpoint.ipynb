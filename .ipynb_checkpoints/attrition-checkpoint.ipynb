{
 "cells": [
  {
   "cell_type": "markdown",
   "metadata": {
    "id": "alIIEHibGc3M"
   },
   "source": [
    "## Part 1: Preprocessing"
   ]
  },
  {
   "cell_type": "code",
   "execution_count": 2,
   "metadata": {
    "colab": {
     "base_uri": "https://localhost:8080/",
     "height": 325
    },
    "id": "6eDUJ4NtGc3P",
    "outputId": "2480098c-135c-4cbf-9552-018494ee8ff5"
   },
   "outputs": [
    {
     "data": {
      "text/html": [
       "<div>\n",
       "<style scoped>\n",
       "    .dataframe tbody tr th:only-of-type {\n",
       "        vertical-align: middle;\n",
       "    }\n",
       "\n",
       "    .dataframe tbody tr th {\n",
       "        vertical-align: top;\n",
       "    }\n",
       "\n",
       "    .dataframe thead th {\n",
       "        text-align: right;\n",
       "    }\n",
       "</style>\n",
       "<table border=\"1\" class=\"dataframe\">\n",
       "  <thead>\n",
       "    <tr style=\"text-align: right;\">\n",
       "      <th></th>\n",
       "      <th>Age</th>\n",
       "      <th>Attrition</th>\n",
       "      <th>BusinessTravel</th>\n",
       "      <th>Department</th>\n",
       "      <th>DistanceFromHome</th>\n",
       "      <th>Education</th>\n",
       "      <th>EducationField</th>\n",
       "      <th>EnvironmentSatisfaction</th>\n",
       "      <th>HourlyRate</th>\n",
       "      <th>JobInvolvement</th>\n",
       "      <th>...</th>\n",
       "      <th>PerformanceRating</th>\n",
       "      <th>RelationshipSatisfaction</th>\n",
       "      <th>StockOptionLevel</th>\n",
       "      <th>TotalWorkingYears</th>\n",
       "      <th>TrainingTimesLastYear</th>\n",
       "      <th>WorkLifeBalance</th>\n",
       "      <th>YearsAtCompany</th>\n",
       "      <th>YearsInCurrentRole</th>\n",
       "      <th>YearsSinceLastPromotion</th>\n",
       "      <th>YearsWithCurrManager</th>\n",
       "    </tr>\n",
       "  </thead>\n",
       "  <tbody>\n",
       "    <tr>\n",
       "      <th>0</th>\n",
       "      <td>41</td>\n",
       "      <td>Yes</td>\n",
       "      <td>Travel_Rarely</td>\n",
       "      <td>Sales</td>\n",
       "      <td>1</td>\n",
       "      <td>2</td>\n",
       "      <td>Life Sciences</td>\n",
       "      <td>2</td>\n",
       "      <td>94</td>\n",
       "      <td>3</td>\n",
       "      <td>...</td>\n",
       "      <td>3</td>\n",
       "      <td>1</td>\n",
       "      <td>0</td>\n",
       "      <td>8</td>\n",
       "      <td>0</td>\n",
       "      <td>1</td>\n",
       "      <td>6</td>\n",
       "      <td>4</td>\n",
       "      <td>0</td>\n",
       "      <td>5</td>\n",
       "    </tr>\n",
       "    <tr>\n",
       "      <th>1</th>\n",
       "      <td>49</td>\n",
       "      <td>No</td>\n",
       "      <td>Travel_Frequently</td>\n",
       "      <td>Research &amp; Development</td>\n",
       "      <td>8</td>\n",
       "      <td>1</td>\n",
       "      <td>Life Sciences</td>\n",
       "      <td>3</td>\n",
       "      <td>61</td>\n",
       "      <td>2</td>\n",
       "      <td>...</td>\n",
       "      <td>4</td>\n",
       "      <td>4</td>\n",
       "      <td>1</td>\n",
       "      <td>10</td>\n",
       "      <td>3</td>\n",
       "      <td>3</td>\n",
       "      <td>10</td>\n",
       "      <td>7</td>\n",
       "      <td>1</td>\n",
       "      <td>7</td>\n",
       "    </tr>\n",
       "    <tr>\n",
       "      <th>2</th>\n",
       "      <td>37</td>\n",
       "      <td>Yes</td>\n",
       "      <td>Travel_Rarely</td>\n",
       "      <td>Research &amp; Development</td>\n",
       "      <td>2</td>\n",
       "      <td>2</td>\n",
       "      <td>Other</td>\n",
       "      <td>4</td>\n",
       "      <td>92</td>\n",
       "      <td>2</td>\n",
       "      <td>...</td>\n",
       "      <td>3</td>\n",
       "      <td>2</td>\n",
       "      <td>0</td>\n",
       "      <td>7</td>\n",
       "      <td>3</td>\n",
       "      <td>3</td>\n",
       "      <td>0</td>\n",
       "      <td>0</td>\n",
       "      <td>0</td>\n",
       "      <td>0</td>\n",
       "    </tr>\n",
       "    <tr>\n",
       "      <th>3</th>\n",
       "      <td>33</td>\n",
       "      <td>No</td>\n",
       "      <td>Travel_Frequently</td>\n",
       "      <td>Research &amp; Development</td>\n",
       "      <td>3</td>\n",
       "      <td>4</td>\n",
       "      <td>Life Sciences</td>\n",
       "      <td>4</td>\n",
       "      <td>56</td>\n",
       "      <td>3</td>\n",
       "      <td>...</td>\n",
       "      <td>3</td>\n",
       "      <td>3</td>\n",
       "      <td>0</td>\n",
       "      <td>8</td>\n",
       "      <td>3</td>\n",
       "      <td>3</td>\n",
       "      <td>8</td>\n",
       "      <td>7</td>\n",
       "      <td>3</td>\n",
       "      <td>0</td>\n",
       "    </tr>\n",
       "    <tr>\n",
       "      <th>4</th>\n",
       "      <td>27</td>\n",
       "      <td>No</td>\n",
       "      <td>Travel_Rarely</td>\n",
       "      <td>Research &amp; Development</td>\n",
       "      <td>2</td>\n",
       "      <td>1</td>\n",
       "      <td>Medical</td>\n",
       "      <td>1</td>\n",
       "      <td>40</td>\n",
       "      <td>3</td>\n",
       "      <td>...</td>\n",
       "      <td>3</td>\n",
       "      <td>4</td>\n",
       "      <td>1</td>\n",
       "      <td>6</td>\n",
       "      <td>3</td>\n",
       "      <td>3</td>\n",
       "      <td>2</td>\n",
       "      <td>2</td>\n",
       "      <td>2</td>\n",
       "      <td>2</td>\n",
       "    </tr>\n",
       "  </tbody>\n",
       "</table>\n",
       "<p>5 rows × 27 columns</p>\n",
       "</div>"
      ],
      "text/plain": [
       "   Age Attrition     BusinessTravel              Department  DistanceFromHome  \\\n",
       "0   41       Yes      Travel_Rarely                   Sales                 1   \n",
       "1   49        No  Travel_Frequently  Research & Development                 8   \n",
       "2   37       Yes      Travel_Rarely  Research & Development                 2   \n",
       "3   33        No  Travel_Frequently  Research & Development                 3   \n",
       "4   27        No      Travel_Rarely  Research & Development                 2   \n",
       "\n",
       "   Education EducationField  EnvironmentSatisfaction  HourlyRate  \\\n",
       "0          2  Life Sciences                        2          94   \n",
       "1          1  Life Sciences                        3          61   \n",
       "2          2          Other                        4          92   \n",
       "3          4  Life Sciences                        4          56   \n",
       "4          1        Medical                        1          40   \n",
       "\n",
       "   JobInvolvement  ...  PerformanceRating RelationshipSatisfaction  \\\n",
       "0               3  ...                  3                        1   \n",
       "1               2  ...                  4                        4   \n",
       "2               2  ...                  3                        2   \n",
       "3               3  ...                  3                        3   \n",
       "4               3  ...                  3                        4   \n",
       "\n",
       "   StockOptionLevel TotalWorkingYears  TrainingTimesLastYear WorkLifeBalance  \\\n",
       "0                 0                 8                      0               1   \n",
       "1                 1                10                      3               3   \n",
       "2                 0                 7                      3               3   \n",
       "3                 0                 8                      3               3   \n",
       "4                 1                 6                      3               3   \n",
       "\n",
       "   YearsAtCompany  YearsInCurrentRole  YearsSinceLastPromotion  \\\n",
       "0               6                   4                        0   \n",
       "1              10                   7                        1   \n",
       "2               0                   0                        0   \n",
       "3               8                   7                        3   \n",
       "4               2                   2                        2   \n",
       "\n",
       "   YearsWithCurrManager  \n",
       "0                     5  \n",
       "1                     7  \n",
       "2                     0  \n",
       "3                     0  \n",
       "4                     2  \n",
       "\n",
       "[5 rows x 27 columns]"
      ]
     },
     "execution_count": 2,
     "metadata": {},
     "output_type": "execute_result"
    }
   ],
   "source": [
    "# Import our dependencies\n",
    "from sklearn.model_selection import train_test_split\n",
    "from sklearn.preprocessing import OneHotEncoder \n",
    "from sklearn.preprocessing import StandardScaler\n",
    "import pandas as pd\n",
    "import numpy as np\n",
    "from tensorflow.keras.models import Model\n",
    "from tensorflow.keras import layers\n",
    "import tensorflow as tf\n",
    "#  Import and read the attrition data\n",
    "attrition_df = pd.read_csv('https://static.bc-edx.com/ai/ail-v-1-0/m19/lms/datasets/attrition.csv')\n",
    "attrition_df.head()"
   ]
  },
  {
   "cell_type": "code",
   "execution_count": 3,
   "metadata": {
    "colab": {
     "base_uri": "https://localhost:8080/"
    },
    "id": "g22aQSY4Gc3Q",
    "outputId": "1f5c13c1-b981-4e40-a7ed-dd3fe6f1b81e"
   },
   "outputs": [
    {
     "data": {
      "text/plain": [
       "Age                         43\n",
       "Attrition                    2\n",
       "BusinessTravel               3\n",
       "Department                   3\n",
       "DistanceFromHome            29\n",
       "Education                    5\n",
       "EducationField               6\n",
       "EnvironmentSatisfaction      4\n",
       "HourlyRate                  71\n",
       "JobInvolvement               4\n",
       "JobLevel                     5\n",
       "JobRole                      9\n",
       "JobSatisfaction              4\n",
       "MaritalStatus                3\n",
       "NumCompaniesWorked          10\n",
       "OverTime                     2\n",
       "PercentSalaryHike           15\n",
       "PerformanceRating            2\n",
       "RelationshipSatisfaction     4\n",
       "StockOptionLevel             4\n",
       "TotalWorkingYears           40\n",
       "TrainingTimesLastYear        7\n",
       "WorkLifeBalance              4\n",
       "YearsAtCompany              37\n",
       "YearsInCurrentRole          19\n",
       "YearsSinceLastPromotion     16\n",
       "YearsWithCurrManager        18\n",
       "dtype: int64"
      ]
     },
     "execution_count": 3,
     "metadata": {},
     "output_type": "execute_result"
    }
   ],
   "source": [
    "# Determine the number of unique values in each column.\n",
    "attrition_df.nunique()"
   ]
  },
  {
   "cell_type": "code",
   "execution_count": 4,
   "metadata": {
    "id": "50vMgBEnJbfM"
   },
   "outputs": [],
   "source": [
    "# Create y_df with the Attrition and Department columns\n",
    "y_df = attrition_df[['Attrition', 'Department']]\n"
   ]
  },
  {
   "cell_type": "code",
   "execution_count": 5,
   "metadata": {
    "colab": {
     "base_uri": "https://localhost:8080/"
    },
    "id": "Virka0zLGc3R",
    "outputId": "dd5aee3a-9458-4ba6-e857-1b234de40915"
   },
   "outputs": [
    {
     "data": {
      "text/plain": [
       "Education                  int64\n",
       "Age                        int64\n",
       "DistanceFromHome           int64\n",
       "JobSatisfaction            int64\n",
       "TotalWorkingYears          int64\n",
       "WorkLifeBalance            int64\n",
       "YearsAtCompany             int64\n",
       "YearsSinceLastPromotion    int64\n",
       "NumCompaniesWorked         int64\n",
       "YearsWithCurrManager       int64\n",
       "dtype: object"
      ]
     },
     "execution_count": 5,
     "metadata": {},
     "output_type": "execute_result"
    }
   ],
   "source": [
    "# Create a list of at least 10 column names to use as X data\n",
    "\n",
    "X_columns = [\"Education\", \n",
    "             \"Age\", \n",
    "             \"DistanceFromHome\", \n",
    "             \"JobSatisfaction\", \n",
    "             \"TotalWorkingYears\", \n",
    "             \"WorkLifeBalance\", \n",
    "             \"YearsAtCompany\",  \n",
    "             \"YearsSinceLastPromotion\", \n",
    "             \"NumCompaniesWorked\", \n",
    "             \"YearsWithCurrManager\", ]   \n",
    "\n",
    "# Create X_df using your selected columns\n",
    "X_df = attrition_df[X_columns]\n",
    "\n",
    "# Show the data types for X_df\n",
    "X_df.dtypes"
   ]
  },
  {
   "cell_type": "code",
   "execution_count": 6,
   "metadata": {
    "id": "KaJfdOGUMHMR"
   },
   "outputs": [],
   "source": [
    "# Split the data into training and testing sets\n",
    "from sklearn.model_selection import train_test_split\n",
    "\n",
    "X_train, X_test, y_train, y_test = train_test_split(X_df, y_df, test_size=0.2, random_state=42)\n"
   ]
  },
  {
   "cell_type": "code",
   "execution_count": 7,
   "metadata": {
    "colab": {
     "base_uri": "https://localhost:8080/"
    },
    "id": "NYubUJqiLCSp",
    "outputId": "53f31721-571c-4c94-d13e-25a715749593"
   },
   "outputs": [],
   "source": [
    "# Convert your X data to numeric data types however you see fit\n",
    "# Add new code cells as necessary\n"
   ]
  },
  {
   "cell_type": "code",
   "execution_count": 8,
   "metadata": {
    "id": "EWA-aIA5Gc3T",
    "scrolled": true
   },
   "outputs": [
    {
     "data": {
      "text/html": [
       "<div>\n",
       "<style scoped>\n",
       "    .dataframe tbody tr th:only-of-type {\n",
       "        vertical-align: middle;\n",
       "    }\n",
       "\n",
       "    .dataframe tbody tr th {\n",
       "        vertical-align: top;\n",
       "    }\n",
       "\n",
       "    .dataframe thead th {\n",
       "        text-align: right;\n",
       "    }\n",
       "</style>\n",
       "<table border=\"1\" class=\"dataframe\">\n",
       "  <thead>\n",
       "    <tr style=\"text-align: right;\">\n",
       "      <th></th>\n",
       "      <th>Education</th>\n",
       "      <th>Age</th>\n",
       "      <th>DistanceFromHome</th>\n",
       "      <th>JobSatisfaction</th>\n",
       "      <th>TotalWorkingYears</th>\n",
       "      <th>WorkLifeBalance</th>\n",
       "      <th>YearsAtCompany</th>\n",
       "      <th>YearsSinceLastPromotion</th>\n",
       "      <th>NumCompaniesWorked</th>\n",
       "      <th>YearsWithCurrManager</th>\n",
       "    </tr>\n",
       "  </thead>\n",
       "  <tbody>\n",
       "    <tr>\n",
       "      <th>0</th>\n",
       "      <td>-0.863356</td>\n",
       "      <td>-1.388559</td>\n",
       "      <td>1.440396</td>\n",
       "      <td>-1.582336</td>\n",
       "      <td>-1.167368</td>\n",
       "      <td>0.357435</td>\n",
       "      <td>-0.974263</td>\n",
       "      <td>-0.676110</td>\n",
       "      <td>-1.059168</td>\n",
       "      <td>-1.142448</td>\n",
       "    </tr>\n",
       "    <tr>\n",
       "      <th>1</th>\n",
       "      <td>-0.863356</td>\n",
       "      <td>-2.040738</td>\n",
       "      <td>-0.522699</td>\n",
       "      <td>1.152834</td>\n",
       "      <td>-1.423397</td>\n",
       "      <td>0.357435</td>\n",
       "      <td>-1.138573</td>\n",
       "      <td>-0.676110</td>\n",
       "      <td>-0.659431</td>\n",
       "      <td>-1.142448</td>\n",
       "    </tr>\n",
       "    <tr>\n",
       "      <th>2</th>\n",
       "      <td>-0.863356</td>\n",
       "      <td>-0.845077</td>\n",
       "      <td>1.317703</td>\n",
       "      <td>1.152834</td>\n",
       "      <td>-0.143254</td>\n",
       "      <td>0.357435</td>\n",
       "      <td>-0.645643</td>\n",
       "      <td>-0.676110</td>\n",
       "      <td>-0.259693</td>\n",
       "      <td>-0.575084</td>\n",
       "    </tr>\n",
       "    <tr>\n",
       "      <th>3</th>\n",
       "      <td>0.099933</td>\n",
       "      <td>0.241886</td>\n",
       "      <td>0.336155</td>\n",
       "      <td>-0.670613</td>\n",
       "      <td>-0.527297</td>\n",
       "      <td>0.357435</td>\n",
       "      <td>-0.317023</td>\n",
       "      <td>-0.355244</td>\n",
       "      <td>0.539781</td>\n",
       "      <td>-1.142448</td>\n",
       "    </tr>\n",
       "    <tr>\n",
       "      <th>4</th>\n",
       "      <td>0.099933</td>\n",
       "      <td>-0.627685</td>\n",
       "      <td>1.317703</td>\n",
       "      <td>0.241111</td>\n",
       "      <td>-0.143254</td>\n",
       "      <td>0.357435</td>\n",
       "      <td>0.504527</td>\n",
       "      <td>-0.676110</td>\n",
       "      <td>-0.659431</td>\n",
       "      <td>-0.575084</td>\n",
       "    </tr>\n",
       "  </tbody>\n",
       "</table>\n",
       "</div>"
      ],
      "text/plain": [
       "   Education       Age  DistanceFromHome  JobSatisfaction  TotalWorkingYears  \\\n",
       "0  -0.863356 -1.388559          1.440396        -1.582336          -1.167368   \n",
       "1  -0.863356 -2.040738         -0.522699         1.152834          -1.423397   \n",
       "2  -0.863356 -0.845077          1.317703         1.152834          -0.143254   \n",
       "3   0.099933  0.241886          0.336155        -0.670613          -0.527297   \n",
       "4   0.099933 -0.627685          1.317703         0.241111          -0.143254   \n",
       "\n",
       "   WorkLifeBalance  YearsAtCompany  YearsSinceLastPromotion  \\\n",
       "0         0.357435       -0.974263                -0.676110   \n",
       "1         0.357435       -1.138573                -0.676110   \n",
       "2         0.357435       -0.645643                -0.676110   \n",
       "3         0.357435       -0.317023                -0.355244   \n",
       "4         0.357435        0.504527                -0.676110   \n",
       "\n",
       "   NumCompaniesWorked  YearsWithCurrManager  \n",
       "0           -1.059168             -1.142448  \n",
       "1           -0.659431             -1.142448  \n",
       "2           -0.259693             -0.575084  \n",
       "3            0.539781             -1.142448  \n",
       "4           -0.659431             -0.575084  "
      ]
     },
     "execution_count": 8,
     "metadata": {},
     "output_type": "execute_result"
    }
   ],
   "source": [
    "# Create a StandardScaler\n",
    "scaler = StandardScaler()\n",
    "\n",
    "# Fit the StandardScaler to the training data\n",
    "scaler.fit(X_train)\n",
    "\n",
    "# Scale the training data\n",
    "X_train_scaled = scaler.transform(X_train)\n",
    "\n",
    "# Scale the testing data\n",
    "X_test_scaled = scaler.transform(X_test)\n",
    "\n",
    "# Display the first few rows of the scaled training data to verify\n",
    "X_train_scaled_df = pd.DataFrame(X_train_scaled, columns=X_train.columns)\n",
    "X_train_scaled_df.head()\n"
   ]
  },
  {
   "cell_type": "code",
   "execution_count": 9,
   "metadata": {},
   "outputs": [
    {
     "name": "stdout",
     "output_type": "stream",
     "text": [
      "Training Data with Encoded Department:\n",
      "[[0. 1. 0.]\n",
      " [0. 1. 0.]\n",
      " [0. 0. 1.]\n",
      " [0. 1. 0.]\n",
      " [0. 1. 0.]]\n",
      "\n",
      "Testing Data with Encoded Department:\n",
      "[[0. 0. 1.]\n",
      " [0. 1. 0.]\n",
      " [1. 0. 0.]\n",
      " [0. 1. 0.]\n",
      " [0. 1. 0.]]\n"
     ]
    }
   ],
   "source": [
    "# Create a OneHotEncoder for the Department column\n",
    "department_ohe = OneHotEncoder(drop=None, handle_unknown='ignore', sparse_output=False)\n",
    "\n",
    "# Fit the encoder to the training data\n",
    "department_ohe.fit(np.array(y_train['Department']).reshape(-1, 1))\n",
    "\n",
    "# Create two new variables by applying the encoder\n",
    "# to the training and testing data\n",
    "# Transform both the training and testing data\n",
    "y_train_department_encoded = department_ohe.transform(np.array(y_train['Department']).reshape(-1, 1))\n",
    "y_test_department_encoded = department_ohe.transform(np.array(y_test['Department']).reshape(-1, 1))\n",
    "\n",
    "# Display results\n",
    "print(\"Training Data with Encoded Department:\")\n",
    "print(y_train_department_encoded[:5])\n",
    "\n",
    "print(\"\\nTesting Data with Encoded Department:\")\n",
    "print(y_test_department_encoded[:5])\n"
   ]
  },
  {
   "cell_type": "code",
   "execution_count": 10,
   "metadata": {},
   "outputs": [
    {
     "name": "stdout",
     "output_type": "stream",
     "text": [
      "Training Data with Encoded Attrition:\n",
      "[[1. 0.]\n",
      " [1. 0.]\n",
      " [1. 0.]\n",
      " [1. 0.]\n",
      " [1. 0.]]\n",
      "\n",
      "Testing Data with Encoded Attrition:\n",
      "[[1. 0.]\n",
      " [1. 0.]\n",
      " [0. 1.]\n",
      " [1. 0.]\n",
      " [1. 0.]]\n"
     ]
    }
   ],
   "source": [
    "# Create a OneHotEncoder for the Attrition column\n",
    "attrition_ohe = OneHotEncoder(drop=None, handle_unknown='ignore', sparse_output=False)\n",
    "\n",
    "# Fit the encoder to the training data\n",
    "attrition_ohe.fit(np.array(y_train['Attrition']).reshape(-1, 1))\n",
    "\n",
    "# Create two new variables by applying the encoder\n",
    "# to the training and testing data\n",
    "y_train_attrition_encoded = attrition_ohe.transform(np.array(y_train['Attrition']).reshape(-1, 1))\n",
    "y_test_attrition_encoded = attrition_ohe.transform(np.array(y_test['Attrition']).reshape(-1, 1))\n",
    "\n",
    "# Display results\n",
    "print(\"Training Data with Encoded Attrition:\")\n",
    "print(y_train_attrition_encoded[:5])\n",
    "\n",
    "print(\"\\nTesting Data with Encoded Attrition:\")\n",
    "print(y_test_attrition_encoded[:5])\n",
    "\n"
   ]
  },
  {
   "cell_type": "markdown",
   "metadata": {
    "id": "ykNmu_WWGc3T"
   },
   "source": [
    "## Create, Compile, and Train the Model"
   ]
  },
  {
   "cell_type": "code",
   "execution_count": 12,
   "metadata": {
    "id": "WUptZqmSGc3T"
   },
   "outputs": [],
   "source": [
    "# Find the number of columns in the X training data\n",
    "input_features = X_train_scaled.shape[1]\n",
    "\n",
    "# Create the input layer\n",
    "input_layer = layers.Input(shape=(input_features,))\n",
    "\n",
    "# Create at least two shared layers\n",
    "shared_layer_1 = layers.Dense(64, activation='relu')(input_layer)\n",
    "shared_layer_2 = layers.Dense(128, activation='relu')(shared_layer_1)\n"
   ]
  },
  {
   "cell_type": "code",
   "execution_count": 13,
   "metadata": {
    "id": "JukjTm2yTEqd"
   },
   "outputs": [],
   "source": [
    "# Create a branch for the Department\n",
    "# with a hidden layer and an output layer\n",
    "# Create the hidden layer\n",
    "department_hidden_layer = layers.Dense(32, activation='relu')(shared_layer_2)\n",
    "# Create the output layer\n",
    "department_output_layer = layers.Dense(y_train_department_encoded.shape[1], activation='softmax', name='department_output')(department_hidden_layer)\n",
    "\n"
   ]
  },
  {
   "cell_type": "code",
   "execution_count": 14,
   "metadata": {
    "id": "9OqhUiOJUBkR"
   },
   "outputs": [],
   "source": [
    "# Create a branch for Attrition\n",
    "# with a hidden layer and an output layer\n",
    "\n",
    "# Create the hidden layer\n",
    "attrition_hidden_layer = layers.Dense(32, activation='relu')(shared_layer_2)\n",
    "\n",
    "# Create the output layer\n",
    "attrition_output_layer = layers.Dense(y_train_attrition_encoded.shape[1], activation='sigmoid', name='attrition_output')(attrition_hidden_layer)\n"
   ]
  },
  {
   "cell_type": "code",
   "execution_count": 15,
   "metadata": {
    "colab": {
     "base_uri": "https://localhost:8080/"
    },
    "id": "twmuejdxGc3T",
    "outputId": "25096308-b68b-42e4-e4ea-ae82e97c435a"
   },
   "outputs": [
    {
     "data": {
      "text/html": [
       "<pre style=\"white-space:pre;overflow-x:auto;line-height:normal;font-family:Menlo,'DejaVu Sans Mono',consolas,'Courier New',monospace\"><span style=\"font-weight: bold\">Model: \"functional\"</span>\n",
       "</pre>\n"
      ],
      "text/plain": [
       "\u001b[1mModel: \"functional\"\u001b[0m\n"
      ]
     },
     "metadata": {},
     "output_type": "display_data"
    },
    {
     "data": {
      "text/html": [
       "<pre style=\"white-space:pre;overflow-x:auto;line-height:normal;font-family:Menlo,'DejaVu Sans Mono',consolas,'Courier New',monospace\">┏━━━━━━━━━━━━━━━━━━━━━┳━━━━━━━━━━━━━━━━━━━┳━━━━━━━━━━━━┳━━━━━━━━━━━━━━━━━━━┓\n",
       "┃<span style=\"font-weight: bold\"> Layer (type)        </span>┃<span style=\"font-weight: bold\"> Output Shape      </span>┃<span style=\"font-weight: bold\">    Param # </span>┃<span style=\"font-weight: bold\"> Connected to      </span>┃\n",
       "┡━━━━━━━━━━━━━━━━━━━━━╇━━━━━━━━━━━━━━━━━━━╇━━━━━━━━━━━━╇━━━━━━━━━━━━━━━━━━━┩\n",
       "│ input_layer         │ (<span style=\"color: #00d7ff; text-decoration-color: #00d7ff\">None</span>, <span style=\"color: #00af00; text-decoration-color: #00af00\">10</span>)        │          <span style=\"color: #00af00; text-decoration-color: #00af00\">0</span> │ -                 │\n",
       "│ (<span style=\"color: #0087ff; text-decoration-color: #0087ff\">InputLayer</span>)        │                   │            │                   │\n",
       "├─────────────────────┼───────────────────┼────────────┼───────────────────┤\n",
       "│ dense (<span style=\"color: #0087ff; text-decoration-color: #0087ff\">Dense</span>)       │ (<span style=\"color: #00d7ff; text-decoration-color: #00d7ff\">None</span>, <span style=\"color: #00af00; text-decoration-color: #00af00\">64</span>)        │        <span style=\"color: #00af00; text-decoration-color: #00af00\">704</span> │ input_layer[<span style=\"color: #00af00; text-decoration-color: #00af00\">0</span>][<span style=\"color: #00af00; text-decoration-color: #00af00\">0</span>] │\n",
       "├─────────────────────┼───────────────────┼────────────┼───────────────────┤\n",
       "│ dense_1 (<span style=\"color: #0087ff; text-decoration-color: #0087ff\">Dense</span>)     │ (<span style=\"color: #00d7ff; text-decoration-color: #00d7ff\">None</span>, <span style=\"color: #00af00; text-decoration-color: #00af00\">128</span>)       │      <span style=\"color: #00af00; text-decoration-color: #00af00\">8,320</span> │ dense[<span style=\"color: #00af00; text-decoration-color: #00af00\">0</span>][<span style=\"color: #00af00; text-decoration-color: #00af00\">0</span>]       │\n",
       "├─────────────────────┼───────────────────┼────────────┼───────────────────┤\n",
       "│ dense_2 (<span style=\"color: #0087ff; text-decoration-color: #0087ff\">Dense</span>)     │ (<span style=\"color: #00d7ff; text-decoration-color: #00d7ff\">None</span>, <span style=\"color: #00af00; text-decoration-color: #00af00\">32</span>)        │      <span style=\"color: #00af00; text-decoration-color: #00af00\">4,128</span> │ dense_1[<span style=\"color: #00af00; text-decoration-color: #00af00\">0</span>][<span style=\"color: #00af00; text-decoration-color: #00af00\">0</span>]     │\n",
       "├─────────────────────┼───────────────────┼────────────┼───────────────────┤\n",
       "│ dense_3 (<span style=\"color: #0087ff; text-decoration-color: #0087ff\">Dense</span>)     │ (<span style=\"color: #00d7ff; text-decoration-color: #00d7ff\">None</span>, <span style=\"color: #00af00; text-decoration-color: #00af00\">32</span>)        │      <span style=\"color: #00af00; text-decoration-color: #00af00\">4,128</span> │ dense_1[<span style=\"color: #00af00; text-decoration-color: #00af00\">0</span>][<span style=\"color: #00af00; text-decoration-color: #00af00\">0</span>]     │\n",
       "├─────────────────────┼───────────────────┼────────────┼───────────────────┤\n",
       "│ department_output   │ (<span style=\"color: #00d7ff; text-decoration-color: #00d7ff\">None</span>, <span style=\"color: #00af00; text-decoration-color: #00af00\">3</span>)         │         <span style=\"color: #00af00; text-decoration-color: #00af00\">99</span> │ dense_2[<span style=\"color: #00af00; text-decoration-color: #00af00\">0</span>][<span style=\"color: #00af00; text-decoration-color: #00af00\">0</span>]     │\n",
       "│ (<span style=\"color: #0087ff; text-decoration-color: #0087ff\">Dense</span>)             │                   │            │                   │\n",
       "├─────────────────────┼───────────────────┼────────────┼───────────────────┤\n",
       "│ attrition_output    │ (<span style=\"color: #00d7ff; text-decoration-color: #00d7ff\">None</span>, <span style=\"color: #00af00; text-decoration-color: #00af00\">2</span>)         │         <span style=\"color: #00af00; text-decoration-color: #00af00\">66</span> │ dense_3[<span style=\"color: #00af00; text-decoration-color: #00af00\">0</span>][<span style=\"color: #00af00; text-decoration-color: #00af00\">0</span>]     │\n",
       "│ (<span style=\"color: #0087ff; text-decoration-color: #0087ff\">Dense</span>)             │                   │            │                   │\n",
       "└─────────────────────┴───────────────────┴────────────┴───────────────────┘\n",
       "</pre>\n"
      ],
      "text/plain": [
       "┏━━━━━━━━━━━━━━━━━━━━━┳━━━━━━━━━━━━━━━━━━━┳━━━━━━━━━━━━┳━━━━━━━━━━━━━━━━━━━┓\n",
       "┃\u001b[1m \u001b[0m\u001b[1mLayer (type)       \u001b[0m\u001b[1m \u001b[0m┃\u001b[1m \u001b[0m\u001b[1mOutput Shape     \u001b[0m\u001b[1m \u001b[0m┃\u001b[1m \u001b[0m\u001b[1m   Param #\u001b[0m\u001b[1m \u001b[0m┃\u001b[1m \u001b[0m\u001b[1mConnected to     \u001b[0m\u001b[1m \u001b[0m┃\n",
       "┡━━━━━━━━━━━━━━━━━━━━━╇━━━━━━━━━━━━━━━━━━━╇━━━━━━━━━━━━╇━━━━━━━━━━━━━━━━━━━┩\n",
       "│ input_layer         │ (\u001b[38;5;45mNone\u001b[0m, \u001b[38;5;34m10\u001b[0m)        │          \u001b[38;5;34m0\u001b[0m │ -                 │\n",
       "│ (\u001b[38;5;33mInputLayer\u001b[0m)        │                   │            │                   │\n",
       "├─────────────────────┼───────────────────┼────────────┼───────────────────┤\n",
       "│ dense (\u001b[38;5;33mDense\u001b[0m)       │ (\u001b[38;5;45mNone\u001b[0m, \u001b[38;5;34m64\u001b[0m)        │        \u001b[38;5;34m704\u001b[0m │ input_layer[\u001b[38;5;34m0\u001b[0m][\u001b[38;5;34m0\u001b[0m] │\n",
       "├─────────────────────┼───────────────────┼────────────┼───────────────────┤\n",
       "│ dense_1 (\u001b[38;5;33mDense\u001b[0m)     │ (\u001b[38;5;45mNone\u001b[0m, \u001b[38;5;34m128\u001b[0m)       │      \u001b[38;5;34m8,320\u001b[0m │ dense[\u001b[38;5;34m0\u001b[0m][\u001b[38;5;34m0\u001b[0m]       │\n",
       "├─────────────────────┼───────────────────┼────────────┼───────────────────┤\n",
       "│ dense_2 (\u001b[38;5;33mDense\u001b[0m)     │ (\u001b[38;5;45mNone\u001b[0m, \u001b[38;5;34m32\u001b[0m)        │      \u001b[38;5;34m4,128\u001b[0m │ dense_1[\u001b[38;5;34m0\u001b[0m][\u001b[38;5;34m0\u001b[0m]     │\n",
       "├─────────────────────┼───────────────────┼────────────┼───────────────────┤\n",
       "│ dense_3 (\u001b[38;5;33mDense\u001b[0m)     │ (\u001b[38;5;45mNone\u001b[0m, \u001b[38;5;34m32\u001b[0m)        │      \u001b[38;5;34m4,128\u001b[0m │ dense_1[\u001b[38;5;34m0\u001b[0m][\u001b[38;5;34m0\u001b[0m]     │\n",
       "├─────────────────────┼───────────────────┼────────────┼───────────────────┤\n",
       "│ department_output   │ (\u001b[38;5;45mNone\u001b[0m, \u001b[38;5;34m3\u001b[0m)         │         \u001b[38;5;34m99\u001b[0m │ dense_2[\u001b[38;5;34m0\u001b[0m][\u001b[38;5;34m0\u001b[0m]     │\n",
       "│ (\u001b[38;5;33mDense\u001b[0m)             │                   │            │                   │\n",
       "├─────────────────────┼───────────────────┼────────────┼───────────────────┤\n",
       "│ attrition_output    │ (\u001b[38;5;45mNone\u001b[0m, \u001b[38;5;34m2\u001b[0m)         │         \u001b[38;5;34m66\u001b[0m │ dense_3[\u001b[38;5;34m0\u001b[0m][\u001b[38;5;34m0\u001b[0m]     │\n",
       "│ (\u001b[38;5;33mDense\u001b[0m)             │                   │            │                   │\n",
       "└─────────────────────┴───────────────────┴────────────┴───────────────────┘\n"
      ]
     },
     "metadata": {},
     "output_type": "display_data"
    },
    {
     "data": {
      "text/html": [
       "<pre style=\"white-space:pre;overflow-x:auto;line-height:normal;font-family:Menlo,'DejaVu Sans Mono',consolas,'Courier New',monospace\"><span style=\"font-weight: bold\"> Total params: </span><span style=\"color: #00af00; text-decoration-color: #00af00\">17,445</span> (68.14 KB)\n",
       "</pre>\n"
      ],
      "text/plain": [
       "\u001b[1m Total params: \u001b[0m\u001b[38;5;34m17,445\u001b[0m (68.14 KB)\n"
      ]
     },
     "metadata": {},
     "output_type": "display_data"
    },
    {
     "data": {
      "text/html": [
       "<pre style=\"white-space:pre;overflow-x:auto;line-height:normal;font-family:Menlo,'DejaVu Sans Mono',consolas,'Courier New',monospace\"><span style=\"font-weight: bold\"> Trainable params: </span><span style=\"color: #00af00; text-decoration-color: #00af00\">17,445</span> (68.14 KB)\n",
       "</pre>\n"
      ],
      "text/plain": [
       "\u001b[1m Trainable params: \u001b[0m\u001b[38;5;34m17,445\u001b[0m (68.14 KB)\n"
      ]
     },
     "metadata": {},
     "output_type": "display_data"
    },
    {
     "data": {
      "text/html": [
       "<pre style=\"white-space:pre;overflow-x:auto;line-height:normal;font-family:Menlo,'DejaVu Sans Mono',consolas,'Courier New',monospace\"><span style=\"font-weight: bold\"> Non-trainable params: </span><span style=\"color: #00af00; text-decoration-color: #00af00\">0</span> (0.00 B)\n",
       "</pre>\n"
      ],
      "text/plain": [
       "\u001b[1m Non-trainable params: \u001b[0m\u001b[38;5;34m0\u001b[0m (0.00 B)\n"
      ]
     },
     "metadata": {},
     "output_type": "display_data"
    }
   ],
   "source": [
    "# Create the model\n",
    "model = Model(inputs=input_layer, outputs=[department_output_layer, attrition_output_layer])\n",
    "\n",
    "# Compile the model\n",
    "model.compile(optimizer='adam', loss={'department_output': 'categorical_crossentropy', 'attrition_output': 'binary_crossentropy'}, metrics=['accuracy'])\n",
    "\n",
    "# Summarize the model\n",
    "model.summary()"
   ]
  },
  {
   "cell_type": "code",
   "execution_count": 16,
   "metadata": {
    "colab": {
     "base_uri": "https://localhost:8080/"
    },
    "id": "c8oGy0dpGc3U",
    "outputId": "cc667d43-28cf-42d4-d719-c2bc02888d30"
   },
   "outputs": [
    {
     "data": {
      "text/html": [
       "<pre style=\"white-space:pre;overflow-x:auto;line-height:normal;font-family:Menlo,'DejaVu Sans Mono',consolas,'Courier New',monospace\"><span style=\"font-weight: bold\">Model: \"functional\"</span>\n",
       "</pre>\n"
      ],
      "text/plain": [
       "\u001b[1mModel: \"functional\"\u001b[0m\n"
      ]
     },
     "metadata": {},
     "output_type": "display_data"
    },
    {
     "data": {
      "text/html": [
       "<pre style=\"white-space:pre;overflow-x:auto;line-height:normal;font-family:Menlo,'DejaVu Sans Mono',consolas,'Courier New',monospace\">┏━━━━━━━━━━━━━━━━━━━━━┳━━━━━━━━━━━━━━━━━━━┳━━━━━━━━━━━━┳━━━━━━━━━━━━━━━━━━━┓\n",
       "┃<span style=\"font-weight: bold\"> Layer (type)        </span>┃<span style=\"font-weight: bold\"> Output Shape      </span>┃<span style=\"font-weight: bold\">    Param # </span>┃<span style=\"font-weight: bold\"> Connected to      </span>┃\n",
       "┡━━━━━━━━━━━━━━━━━━━━━╇━━━━━━━━━━━━━━━━━━━╇━━━━━━━━━━━━╇━━━━━━━━━━━━━━━━━━━┩\n",
       "│ input_layer         │ (<span style=\"color: #00d7ff; text-decoration-color: #00d7ff\">None</span>, <span style=\"color: #00af00; text-decoration-color: #00af00\">10</span>)        │          <span style=\"color: #00af00; text-decoration-color: #00af00\">0</span> │ -                 │\n",
       "│ (<span style=\"color: #0087ff; text-decoration-color: #0087ff\">InputLayer</span>)        │                   │            │                   │\n",
       "├─────────────────────┼───────────────────┼────────────┼───────────────────┤\n",
       "│ dense (<span style=\"color: #0087ff; text-decoration-color: #0087ff\">Dense</span>)       │ (<span style=\"color: #00d7ff; text-decoration-color: #00d7ff\">None</span>, <span style=\"color: #00af00; text-decoration-color: #00af00\">64</span>)        │        <span style=\"color: #00af00; text-decoration-color: #00af00\">704</span> │ input_layer[<span style=\"color: #00af00; text-decoration-color: #00af00\">0</span>][<span style=\"color: #00af00; text-decoration-color: #00af00\">0</span>] │\n",
       "├─────────────────────┼───────────────────┼────────────┼───────────────────┤\n",
       "│ dense_1 (<span style=\"color: #0087ff; text-decoration-color: #0087ff\">Dense</span>)     │ (<span style=\"color: #00d7ff; text-decoration-color: #00d7ff\">None</span>, <span style=\"color: #00af00; text-decoration-color: #00af00\">128</span>)       │      <span style=\"color: #00af00; text-decoration-color: #00af00\">8,320</span> │ dense[<span style=\"color: #00af00; text-decoration-color: #00af00\">0</span>][<span style=\"color: #00af00; text-decoration-color: #00af00\">0</span>]       │\n",
       "├─────────────────────┼───────────────────┼────────────┼───────────────────┤\n",
       "│ dense_2 (<span style=\"color: #0087ff; text-decoration-color: #0087ff\">Dense</span>)     │ (<span style=\"color: #00d7ff; text-decoration-color: #00d7ff\">None</span>, <span style=\"color: #00af00; text-decoration-color: #00af00\">32</span>)        │      <span style=\"color: #00af00; text-decoration-color: #00af00\">4,128</span> │ dense_1[<span style=\"color: #00af00; text-decoration-color: #00af00\">0</span>][<span style=\"color: #00af00; text-decoration-color: #00af00\">0</span>]     │\n",
       "├─────────────────────┼───────────────────┼────────────┼───────────────────┤\n",
       "│ dense_3 (<span style=\"color: #0087ff; text-decoration-color: #0087ff\">Dense</span>)     │ (<span style=\"color: #00d7ff; text-decoration-color: #00d7ff\">None</span>, <span style=\"color: #00af00; text-decoration-color: #00af00\">32</span>)        │      <span style=\"color: #00af00; text-decoration-color: #00af00\">4,128</span> │ dense_1[<span style=\"color: #00af00; text-decoration-color: #00af00\">0</span>][<span style=\"color: #00af00; text-decoration-color: #00af00\">0</span>]     │\n",
       "├─────────────────────┼───────────────────┼────────────┼───────────────────┤\n",
       "│ department_output   │ (<span style=\"color: #00d7ff; text-decoration-color: #00d7ff\">None</span>, <span style=\"color: #00af00; text-decoration-color: #00af00\">3</span>)         │         <span style=\"color: #00af00; text-decoration-color: #00af00\">99</span> │ dense_2[<span style=\"color: #00af00; text-decoration-color: #00af00\">0</span>][<span style=\"color: #00af00; text-decoration-color: #00af00\">0</span>]     │\n",
       "│ (<span style=\"color: #0087ff; text-decoration-color: #0087ff\">Dense</span>)             │                   │            │                   │\n",
       "├─────────────────────┼───────────────────┼────────────┼───────────────────┤\n",
       "│ attrition_output    │ (<span style=\"color: #00d7ff; text-decoration-color: #00d7ff\">None</span>, <span style=\"color: #00af00; text-decoration-color: #00af00\">2</span>)         │         <span style=\"color: #00af00; text-decoration-color: #00af00\">66</span> │ dense_3[<span style=\"color: #00af00; text-decoration-color: #00af00\">0</span>][<span style=\"color: #00af00; text-decoration-color: #00af00\">0</span>]     │\n",
       "│ (<span style=\"color: #0087ff; text-decoration-color: #0087ff\">Dense</span>)             │                   │            │                   │\n",
       "└─────────────────────┴───────────────────┴────────────┴───────────────────┘\n",
       "</pre>\n"
      ],
      "text/plain": [
       "┏━━━━━━━━━━━━━━━━━━━━━┳━━━━━━━━━━━━━━━━━━━┳━━━━━━━━━━━━┳━━━━━━━━━━━━━━━━━━━┓\n",
       "┃\u001b[1m \u001b[0m\u001b[1mLayer (type)       \u001b[0m\u001b[1m \u001b[0m┃\u001b[1m \u001b[0m\u001b[1mOutput Shape     \u001b[0m\u001b[1m \u001b[0m┃\u001b[1m \u001b[0m\u001b[1m   Param #\u001b[0m\u001b[1m \u001b[0m┃\u001b[1m \u001b[0m\u001b[1mConnected to     \u001b[0m\u001b[1m \u001b[0m┃\n",
       "┡━━━━━━━━━━━━━━━━━━━━━╇━━━━━━━━━━━━━━━━━━━╇━━━━━━━━━━━━╇━━━━━━━━━━━━━━━━━━━┩\n",
       "│ input_layer         │ (\u001b[38;5;45mNone\u001b[0m, \u001b[38;5;34m10\u001b[0m)        │          \u001b[38;5;34m0\u001b[0m │ -                 │\n",
       "│ (\u001b[38;5;33mInputLayer\u001b[0m)        │                   │            │                   │\n",
       "├─────────────────────┼───────────────────┼────────────┼───────────────────┤\n",
       "│ dense (\u001b[38;5;33mDense\u001b[0m)       │ (\u001b[38;5;45mNone\u001b[0m, \u001b[38;5;34m64\u001b[0m)        │        \u001b[38;5;34m704\u001b[0m │ input_layer[\u001b[38;5;34m0\u001b[0m][\u001b[38;5;34m0\u001b[0m] │\n",
       "├─────────────────────┼───────────────────┼────────────┼───────────────────┤\n",
       "│ dense_1 (\u001b[38;5;33mDense\u001b[0m)     │ (\u001b[38;5;45mNone\u001b[0m, \u001b[38;5;34m128\u001b[0m)       │      \u001b[38;5;34m8,320\u001b[0m │ dense[\u001b[38;5;34m0\u001b[0m][\u001b[38;5;34m0\u001b[0m]       │\n",
       "├─────────────────────┼───────────────────┼────────────┼───────────────────┤\n",
       "│ dense_2 (\u001b[38;5;33mDense\u001b[0m)     │ (\u001b[38;5;45mNone\u001b[0m, \u001b[38;5;34m32\u001b[0m)        │      \u001b[38;5;34m4,128\u001b[0m │ dense_1[\u001b[38;5;34m0\u001b[0m][\u001b[38;5;34m0\u001b[0m]     │\n",
       "├─────────────────────┼───────────────────┼────────────┼───────────────────┤\n",
       "│ dense_3 (\u001b[38;5;33mDense\u001b[0m)     │ (\u001b[38;5;45mNone\u001b[0m, \u001b[38;5;34m32\u001b[0m)        │      \u001b[38;5;34m4,128\u001b[0m │ dense_1[\u001b[38;5;34m0\u001b[0m][\u001b[38;5;34m0\u001b[0m]     │\n",
       "├─────────────────────┼───────────────────┼────────────┼───────────────────┤\n",
       "│ department_output   │ (\u001b[38;5;45mNone\u001b[0m, \u001b[38;5;34m3\u001b[0m)         │         \u001b[38;5;34m99\u001b[0m │ dense_2[\u001b[38;5;34m0\u001b[0m][\u001b[38;5;34m0\u001b[0m]     │\n",
       "│ (\u001b[38;5;33mDense\u001b[0m)             │                   │            │                   │\n",
       "├─────────────────────┼───────────────────┼────────────┼───────────────────┤\n",
       "│ attrition_output    │ (\u001b[38;5;45mNone\u001b[0m, \u001b[38;5;34m2\u001b[0m)         │         \u001b[38;5;34m66\u001b[0m │ dense_3[\u001b[38;5;34m0\u001b[0m][\u001b[38;5;34m0\u001b[0m]     │\n",
       "│ (\u001b[38;5;33mDense\u001b[0m)             │                   │            │                   │\n",
       "└─────────────────────┴───────────────────┴────────────┴───────────────────┘\n"
      ]
     },
     "metadata": {},
     "output_type": "display_data"
    },
    {
     "data": {
      "text/html": [
       "<pre style=\"white-space:pre;overflow-x:auto;line-height:normal;font-family:Menlo,'DejaVu Sans Mono',consolas,'Courier New',monospace\"><span style=\"font-weight: bold\"> Total params: </span><span style=\"color: #00af00; text-decoration-color: #00af00\">17,445</span> (68.14 KB)\n",
       "</pre>\n"
      ],
      "text/plain": [
       "\u001b[1m Total params: \u001b[0m\u001b[38;5;34m17,445\u001b[0m (68.14 KB)\n"
      ]
     },
     "metadata": {},
     "output_type": "display_data"
    },
    {
     "data": {
      "text/html": [
       "<pre style=\"white-space:pre;overflow-x:auto;line-height:normal;font-family:Menlo,'DejaVu Sans Mono',consolas,'Courier New',monospace\"><span style=\"font-weight: bold\"> Trainable params: </span><span style=\"color: #00af00; text-decoration-color: #00af00\">17,445</span> (68.14 KB)\n",
       "</pre>\n"
      ],
      "text/plain": [
       "\u001b[1m Trainable params: \u001b[0m\u001b[38;5;34m17,445\u001b[0m (68.14 KB)\n"
      ]
     },
     "metadata": {},
     "output_type": "display_data"
    },
    {
     "data": {
      "text/html": [
       "<pre style=\"white-space:pre;overflow-x:auto;line-height:normal;font-family:Menlo,'DejaVu Sans Mono',consolas,'Courier New',monospace\"><span style=\"font-weight: bold\"> Non-trainable params: </span><span style=\"color: #00af00; text-decoration-color: #00af00\">0</span> (0.00 B)\n",
       "</pre>\n"
      ],
      "text/plain": [
       "\u001b[1m Non-trainable params: \u001b[0m\u001b[38;5;34m0\u001b[0m (0.00 B)\n"
      ]
     },
     "metadata": {},
     "output_type": "display_data"
    }
   ],
   "source": [
    "# Compile the model\n",
    "# Specify metrics for each output using a dictionary\n",
    "model.compile(optimizer='adam',\n",
    "              loss={'department_output': 'categorical_crossentropy',\n",
    "                    'attrition_output': 'binary_crossentropy'},\n",
    "              metrics={'department_output': 'accuracy',  # Accuracy for department prediction\n",
    "                       'attrition_output': 'accuracy'})  # Accuracy for attrition prediction\n",
    "\n",
    "# Summarize the model\n",
    "model.summary()\n"
   ]
  },
  {
   "cell_type": "code",
   "execution_count": 17,
   "metadata": {},
   "outputs": [
    {
     "name": "stdout",
     "output_type": "stream",
     "text": [
      "Epoch 1/100\n",
      "\u001b[1m37/37\u001b[0m \u001b[32m━━━━━━━━━━━━━━━━━━━━\u001b[0m\u001b[37m\u001b[0m \u001b[1m2s\u001b[0m 10ms/step - attrition_output_accuracy: 0.8331 - attrition_output_loss: 0.4961 - department_output_accuracy: 0.5509 - department_output_loss: 0.6278 - loss: 1.1239 - val_attrition_output_accuracy: 0.8707 - val_attrition_output_loss: 0.3633 - val_department_output_accuracy: 0.6667 - val_department_output_loss: 0.4813 - val_loss: 0.8647\n",
      "Epoch 2/100\n",
      "\u001b[1m37/37\u001b[0m \u001b[32m━━━━━━━━━━━━━━━━━━━━\u001b[0m\u001b[37m\u001b[0m \u001b[1m0s\u001b[0m 3ms/step - attrition_output_accuracy: 0.8473 - attrition_output_loss: 0.3895 - department_output_accuracy: 0.6233 - department_output_loss: 0.4920 - loss: 0.8815 - val_attrition_output_accuracy: 0.8741 - val_attrition_output_loss: 0.3692 - val_department_output_accuracy: 0.6667 - val_department_output_loss: 0.4768 - val_loss: 0.8666\n",
      "Epoch 3/100\n",
      "\u001b[1m37/37\u001b[0m \u001b[32m━━━━━━━━━━━━━━━━━━━━\u001b[0m\u001b[37m\u001b[0m \u001b[1m0s\u001b[0m 2ms/step - attrition_output_accuracy: 0.8397 - attrition_output_loss: 0.4129 - department_output_accuracy: 0.6606 - department_output_loss: 0.4651 - loss: 0.8779 - val_attrition_output_accuracy: 0.8741 - val_attrition_output_loss: 0.3486 - val_department_output_accuracy: 0.6667 - val_department_output_loss: 0.4763 - val_loss: 0.8505\n",
      "Epoch 4/100\n",
      "\u001b[1m37/37\u001b[0m \u001b[32m━━━━━━━━━━━━━━━━━━━━\u001b[0m\u001b[37m\u001b[0m \u001b[1m0s\u001b[0m 2ms/step - attrition_output_accuracy: 0.8460 - attrition_output_loss: 0.3798 - department_output_accuracy: 0.6632 - department_output_loss: 0.4610 - loss: 0.8408 - val_attrition_output_accuracy: 0.8776 - val_attrition_output_loss: 0.3600 - val_department_output_accuracy: 0.6667 - val_department_output_loss: 0.4778 - val_loss: 0.8609\n",
      "Epoch 5/100\n",
      "\u001b[1m37/37\u001b[0m \u001b[32m━━━━━━━━━━━━━━━━━━━━\u001b[0m\u001b[37m\u001b[0m \u001b[1m0s\u001b[0m 2ms/step - attrition_output_accuracy: 0.8370 - attrition_output_loss: 0.3883 - department_output_accuracy: 0.6575 - department_output_loss: 0.4668 - loss: 0.8551 - val_attrition_output_accuracy: 0.8741 - val_attrition_output_loss: 0.3510 - val_department_output_accuracy: 0.6667 - val_department_output_loss: 0.4762 - val_loss: 0.8521\n",
      "Epoch 6/100\n",
      "\u001b[1m37/37\u001b[0m \u001b[32m━━━━━━━━━━━━━━━━━━━━\u001b[0m\u001b[37m\u001b[0m \u001b[1m0s\u001b[0m 2ms/step - attrition_output_accuracy: 0.8283 - attrition_output_loss: 0.3896 - department_output_accuracy: 0.6401 - department_output_loss: 0.4840 - loss: 0.8737 - val_attrition_output_accuracy: 0.8810 - val_attrition_output_loss: 0.3594 - val_department_output_accuracy: 0.6667 - val_department_output_loss: 0.4764 - val_loss: 0.8619\n",
      "Epoch 7/100\n",
      "\u001b[1m37/37\u001b[0m \u001b[32m━━━━━━━━━━━━━━━━━━━━\u001b[0m\u001b[37m\u001b[0m \u001b[1m0s\u001b[0m 2ms/step - attrition_output_accuracy: 0.8311 - attrition_output_loss: 0.3830 - department_output_accuracy: 0.6322 - department_output_loss: 0.4814 - loss: 0.8645 - val_attrition_output_accuracy: 0.8741 - val_attrition_output_loss: 0.3511 - val_department_output_accuracy: 0.6667 - val_department_output_loss: 0.4762 - val_loss: 0.8555\n",
      "Epoch 8/100\n",
      "\u001b[1m37/37\u001b[0m \u001b[32m━━━━━━━━━━━━━━━━━━━━\u001b[0m\u001b[37m\u001b[0m \u001b[1m0s\u001b[0m 2ms/step - attrition_output_accuracy: 0.8412 - attrition_output_loss: 0.3618 - department_output_accuracy: 0.6416 - department_output_loss: 0.4725 - loss: 0.8342 - val_attrition_output_accuracy: 0.8707 - val_attrition_output_loss: 0.3673 - val_department_output_accuracy: 0.6667 - val_department_output_loss: 0.4773 - val_loss: 0.8705\n",
      "Epoch 9/100\n",
      "\u001b[1m37/37\u001b[0m \u001b[32m━━━━━━━━━━━━━━━━━━━━\u001b[0m\u001b[37m\u001b[0m \u001b[1m0s\u001b[0m 2ms/step - attrition_output_accuracy: 0.8579 - attrition_output_loss: 0.3368 - department_output_accuracy: 0.6371 - department_output_loss: 0.4722 - loss: 0.8090 - val_attrition_output_accuracy: 0.8639 - val_attrition_output_loss: 0.3638 - val_department_output_accuracy: 0.6667 - val_department_output_loss: 0.4776 - val_loss: 0.8669\n",
      "Epoch 10/100\n",
      "\u001b[1m37/37\u001b[0m \u001b[32m━━━━━━━━━━━━━━━━━━━━\u001b[0m\u001b[37m\u001b[0m \u001b[1m0s\u001b[0m 2ms/step - attrition_output_accuracy: 0.8671 - attrition_output_loss: 0.3217 - department_output_accuracy: 0.6557 - department_output_loss: 0.4586 - loss: 0.7804 - val_attrition_output_accuracy: 0.8707 - val_attrition_output_loss: 0.3656 - val_department_output_accuracy: 0.6667 - val_department_output_loss: 0.4798 - val_loss: 0.8726\n",
      "Epoch 11/100\n",
      "\u001b[1m37/37\u001b[0m \u001b[32m━━━━━━━━━━━━━━━━━━━━\u001b[0m\u001b[37m\u001b[0m \u001b[1m0s\u001b[0m 2ms/step - attrition_output_accuracy: 0.8650 - attrition_output_loss: 0.3255 - department_output_accuracy: 0.6609 - department_output_loss: 0.4539 - loss: 0.7794 - val_attrition_output_accuracy: 0.8639 - val_attrition_output_loss: 0.3722 - val_department_output_accuracy: 0.6667 - val_department_output_loss: 0.4801 - val_loss: 0.8738\n",
      "Epoch 12/100\n",
      "\u001b[1m37/37\u001b[0m \u001b[32m━━━━━━━━━━━━━━━━━━━━\u001b[0m\u001b[37m\u001b[0m \u001b[1m0s\u001b[0m 2ms/step - attrition_output_accuracy: 0.8399 - attrition_output_loss: 0.3571 - department_output_accuracy: 0.6404 - department_output_loss: 0.4613 - loss: 0.8185 - val_attrition_output_accuracy: 0.8639 - val_attrition_output_loss: 0.3583 - val_department_output_accuracy: 0.6667 - val_department_output_loss: 0.4813 - val_loss: 0.8695\n",
      "Epoch 13/100\n",
      "\u001b[1m37/37\u001b[0m \u001b[32m━━━━━━━━━━━━━━━━━━━━\u001b[0m\u001b[37m\u001b[0m \u001b[1m0s\u001b[0m 2ms/step - attrition_output_accuracy: 0.8542 - attrition_output_loss: 0.3227 - department_output_accuracy: 0.6445 - department_output_loss: 0.4612 - loss: 0.7840 - val_attrition_output_accuracy: 0.8707 - val_attrition_output_loss: 0.3740 - val_department_output_accuracy: 0.6667 - val_department_output_loss: 0.4827 - val_loss: 0.8809\n",
      "Epoch 14/100\n",
      "\u001b[1m37/37\u001b[0m \u001b[32m━━━━━━━━━━━━━━━━━━━━\u001b[0m\u001b[37m\u001b[0m \u001b[1m0s\u001b[0m 2ms/step - attrition_output_accuracy: 0.8672 - attrition_output_loss: 0.3149 - department_output_accuracy: 0.6438 - department_output_loss: 0.4579 - loss: 0.7728 - val_attrition_output_accuracy: 0.7959 - val_attrition_output_loss: 0.4483 - val_department_output_accuracy: 0.6667 - val_department_output_loss: 0.4858 - val_loss: 0.9434\n",
      "Epoch 15/100\n",
      "\u001b[1m37/37\u001b[0m \u001b[32m━━━━━━━━━━━━━━━━━━━━\u001b[0m\u001b[37m\u001b[0m \u001b[1m0s\u001b[0m 2ms/step - attrition_output_accuracy: 0.8458 - attrition_output_loss: 0.3384 - department_output_accuracy: 0.6628 - department_output_loss: 0.4581 - loss: 0.7964 - val_attrition_output_accuracy: 0.8673 - val_attrition_output_loss: 0.3772 - val_department_output_accuracy: 0.6599 - val_department_output_loss: 0.4867 - val_loss: 0.8913\n",
      "Epoch 16/100\n",
      "\u001b[1m37/37\u001b[0m \u001b[32m━━━━━━━━━━━━━━━━━━━━\u001b[0m\u001b[37m\u001b[0m \u001b[1m0s\u001b[0m 2ms/step - attrition_output_accuracy: 0.8734 - attrition_output_loss: 0.2888 - department_output_accuracy: 0.6679 - department_output_loss: 0.4470 - loss: 0.7358 - val_attrition_output_accuracy: 0.8197 - val_attrition_output_loss: 0.4223 - val_department_output_accuracy: 0.6395 - val_department_output_loss: 0.4914 - val_loss: 0.9251\n",
      "Epoch 17/100\n",
      "\u001b[1m37/37\u001b[0m \u001b[32m━━━━━━━━━━━━━━━━━━━━\u001b[0m\u001b[37m\u001b[0m \u001b[1m0s\u001b[0m 2ms/step - attrition_output_accuracy: 0.8730 - attrition_output_loss: 0.2953 - department_output_accuracy: 0.6766 - department_output_loss: 0.4517 - loss: 0.7470 - val_attrition_output_accuracy: 0.8673 - val_attrition_output_loss: 0.3851 - val_department_output_accuracy: 0.6463 - val_department_output_loss: 0.4907 - val_loss: 0.9039\n",
      "Epoch 18/100\n",
      "\u001b[1m37/37\u001b[0m \u001b[32m━━━━━━━━━━━━━━━━━━━━\u001b[0m\u001b[37m\u001b[0m \u001b[1m0s\u001b[0m 3ms/step - attrition_output_accuracy: 0.8775 - attrition_output_loss: 0.2783 - department_output_accuracy: 0.6756 - department_output_loss: 0.4488 - loss: 0.7270 - val_attrition_output_accuracy: 0.8537 - val_attrition_output_loss: 0.3906 - val_department_output_accuracy: 0.6565 - val_department_output_loss: 0.4917 - val_loss: 0.9085\n",
      "Epoch 19/100\n",
      "\u001b[1m37/37\u001b[0m \u001b[32m━━━━━━━━━━━━━━━━━━━━\u001b[0m\u001b[37m\u001b[0m \u001b[1m0s\u001b[0m 2ms/step - attrition_output_accuracy: 0.8863 - attrition_output_loss: 0.2805 - department_output_accuracy: 0.6862 - department_output_loss: 0.4395 - loss: 0.7201 - val_attrition_output_accuracy: 0.8571 - val_attrition_output_loss: 0.4351 - val_department_output_accuracy: 0.6361 - val_department_output_loss: 0.4957 - val_loss: 0.9561\n",
      "Epoch 20/100\n",
      "\u001b[1m37/37\u001b[0m \u001b[32m━━━━━━━━━━━━━━━━━━━━\u001b[0m\u001b[37m\u001b[0m \u001b[1m0s\u001b[0m 2ms/step - attrition_output_accuracy: 0.8806 - attrition_output_loss: 0.2585 - department_output_accuracy: 0.6679 - department_output_loss: 0.4457 - loss: 0.7042 - val_attrition_output_accuracy: 0.8503 - val_attrition_output_loss: 0.4261 - val_department_output_accuracy: 0.6565 - val_department_output_loss: 0.4989 - val_loss: 0.9520\n",
      "Epoch 21/100\n",
      "\u001b[1m37/37\u001b[0m \u001b[32m━━━━━━━━━━━━━━━━━━━━\u001b[0m\u001b[37m\u001b[0m \u001b[1m0s\u001b[0m 2ms/step - attrition_output_accuracy: 0.8939 - attrition_output_loss: 0.2552 - department_output_accuracy: 0.6500 - department_output_loss: 0.4615 - loss: 0.7167 - val_attrition_output_accuracy: 0.7925 - val_attrition_output_loss: 0.4579 - val_department_output_accuracy: 0.6633 - val_department_output_loss: 0.4998 - val_loss: 0.9726\n",
      "Epoch 22/100\n",
      "\u001b[1m37/37\u001b[0m \u001b[32m━━━━━━━━━━━━━━━━━━━━\u001b[0m\u001b[37m\u001b[0m \u001b[1m0s\u001b[0m 2ms/step - attrition_output_accuracy: 0.8857 - attrition_output_loss: 0.2563 - department_output_accuracy: 0.6668 - department_output_loss: 0.4366 - loss: 0.6928 - val_attrition_output_accuracy: 0.7857 - val_attrition_output_loss: 0.5279 - val_department_output_accuracy: 0.6293 - val_department_output_loss: 0.4998 - val_loss: 1.0205\n",
      "Epoch 23/100\n",
      "\u001b[1m37/37\u001b[0m \u001b[32m━━━━━━━━━━━━━━━━━━━━\u001b[0m\u001b[37m\u001b[0m \u001b[1m0s\u001b[0m 2ms/step - attrition_output_accuracy: 0.8934 - attrition_output_loss: 0.2586 - department_output_accuracy: 0.6842 - department_output_loss: 0.4294 - loss: 0.6879 - val_attrition_output_accuracy: 0.8401 - val_attrition_output_loss: 0.4579 - val_department_output_accuracy: 0.6224 - val_department_output_loss: 0.5030 - val_loss: 0.9759\n",
      "Epoch 24/100\n",
      "\u001b[1m37/37\u001b[0m \u001b[32m━━━━━━━━━━━━━━━━━━━━\u001b[0m\u001b[37m\u001b[0m \u001b[1m0s\u001b[0m 2ms/step - attrition_output_accuracy: 0.8948 - attrition_output_loss: 0.2369 - department_output_accuracy: 0.6846 - department_output_loss: 0.4335 - loss: 0.6704 - val_attrition_output_accuracy: 0.8299 - val_attrition_output_loss: 0.4413 - val_department_output_accuracy: 0.6395 - val_department_output_loss: 0.5055 - val_loss: 0.9737\n",
      "Epoch 25/100\n",
      "\u001b[1m37/37\u001b[0m \u001b[32m━━━━━━━━━━━━━━━━━━━━\u001b[0m\u001b[37m\u001b[0m \u001b[1m0s\u001b[0m 2ms/step - attrition_output_accuracy: 0.8958 - attrition_output_loss: 0.2356 - department_output_accuracy: 0.6614 - department_output_loss: 0.4436 - loss: 0.6792 - val_attrition_output_accuracy: 0.8197 - val_attrition_output_loss: 0.4670 - val_department_output_accuracy: 0.6293 - val_department_output_loss: 0.5043 - val_loss: 0.9818\n",
      "Epoch 26/100\n",
      "\u001b[1m37/37\u001b[0m \u001b[32m━━━━━━━━━━━━━━━━━━━━\u001b[0m\u001b[37m\u001b[0m \u001b[1m0s\u001b[0m 2ms/step - attrition_output_accuracy: 0.9128 - attrition_output_loss: 0.2212 - department_output_accuracy: 0.6909 - department_output_loss: 0.4167 - loss: 0.6380 - val_attrition_output_accuracy: 0.8231 - val_attrition_output_loss: 0.4555 - val_department_output_accuracy: 0.6224 - val_department_output_loss: 0.5156 - val_loss: 0.9889\n",
      "Epoch 27/100\n",
      "\u001b[1m37/37\u001b[0m \u001b[32m━━━━━━━━━━━━━━━━━━━━\u001b[0m\u001b[37m\u001b[0m \u001b[1m0s\u001b[0m 2ms/step - attrition_output_accuracy: 0.9097 - attrition_output_loss: 0.2236 - department_output_accuracy: 0.6861 - department_output_loss: 0.4346 - loss: 0.6581 - val_attrition_output_accuracy: 0.8299 - val_attrition_output_loss: 0.4639 - val_department_output_accuracy: 0.6224 - val_department_output_loss: 0.5122 - val_loss: 1.0007\n",
      "Epoch 28/100\n",
      "\u001b[1m37/37\u001b[0m \u001b[32m━━━━━━━━━━━━━━━━━━━━\u001b[0m\u001b[37m\u001b[0m \u001b[1m0s\u001b[0m 2ms/step - attrition_output_accuracy: 0.9206 - attrition_output_loss: 0.2058 - department_output_accuracy: 0.6933 - department_output_loss: 0.4142 - loss: 0.6201 - val_attrition_output_accuracy: 0.8367 - val_attrition_output_loss: 0.4816 - val_department_output_accuracy: 0.5884 - val_department_output_loss: 0.5251 - val_loss: 1.0237\n",
      "Epoch 29/100\n",
      "\u001b[1m37/37\u001b[0m \u001b[32m━━━━━━━━━━━━━━━━━━━━\u001b[0m\u001b[37m\u001b[0m \u001b[1m0s\u001b[0m 2ms/step - attrition_output_accuracy: 0.9209 - attrition_output_loss: 0.1839 - department_output_accuracy: 0.6892 - department_output_loss: 0.4255 - loss: 0.6094 - val_attrition_output_accuracy: 0.8333 - val_attrition_output_loss: 0.4679 - val_department_output_accuracy: 0.6327 - val_department_output_loss: 0.5178 - val_loss: 1.0050\n",
      "Epoch 30/100\n",
      "\u001b[1m37/37\u001b[0m \u001b[32m━━━━━━━━━━━━━━━━━━━━\u001b[0m\u001b[37m\u001b[0m \u001b[1m0s\u001b[0m 2ms/step - attrition_output_accuracy: 0.9069 - attrition_output_loss: 0.2004 - department_output_accuracy: 0.7046 - department_output_loss: 0.4135 - loss: 0.6139 - val_attrition_output_accuracy: 0.7789 - val_attrition_output_loss: 0.5800 - val_department_output_accuracy: 0.6054 - val_department_output_loss: 0.5271 - val_loss: 1.1038\n",
      "Epoch 31/100\n",
      "\u001b[1m37/37\u001b[0m \u001b[32m━━━━━━━━━━━━━━━━━━━━\u001b[0m\u001b[37m\u001b[0m \u001b[1m0s\u001b[0m 3ms/step - attrition_output_accuracy: 0.9231 - attrition_output_loss: 0.1897 - department_output_accuracy: 0.7268 - department_output_loss: 0.3967 - loss: 0.5864 - val_attrition_output_accuracy: 0.8299 - val_attrition_output_loss: 0.4947 - val_department_output_accuracy: 0.6361 - val_department_output_loss: 0.5206 - val_loss: 1.0431\n",
      "Epoch 32/100\n",
      "\u001b[1m37/37\u001b[0m \u001b[32m━━━━━━━━━━━━━━━━━━━━\u001b[0m\u001b[37m\u001b[0m \u001b[1m0s\u001b[0m 2ms/step - attrition_output_accuracy: 0.9262 - attrition_output_loss: 0.1780 - department_output_accuracy: 0.6803 - department_output_loss: 0.4159 - loss: 0.5940 - val_attrition_output_accuracy: 0.8061 - val_attrition_output_loss: 0.5095 - val_department_output_accuracy: 0.6327 - val_department_output_loss: 0.5289 - val_loss: 1.0585\n",
      "Epoch 33/100\n",
      "\u001b[1m37/37\u001b[0m \u001b[32m━━━━━━━━━━━━━━━━━━━━\u001b[0m\u001b[37m\u001b[0m \u001b[1m0s\u001b[0m 2ms/step - attrition_output_accuracy: 0.9324 - attrition_output_loss: 0.1636 - department_output_accuracy: 0.7006 - department_output_loss: 0.4034 - loss: 0.5670 - val_attrition_output_accuracy: 0.7925 - val_attrition_output_loss: 0.5518 - val_department_output_accuracy: 0.5952 - val_department_output_loss: 0.5297 - val_loss: 1.0936\n",
      "Epoch 34/100\n",
      "\u001b[1m37/37\u001b[0m \u001b[32m━━━━━━━━━━━━━━━━━━━━\u001b[0m\u001b[37m\u001b[0m \u001b[1m0s\u001b[0m 2ms/step - attrition_output_accuracy: 0.9419 - attrition_output_loss: 0.1484 - department_output_accuracy: 0.7091 - department_output_loss: 0.3955 - loss: 0.5439 - val_attrition_output_accuracy: 0.7993 - val_attrition_output_loss: 0.5127 - val_department_output_accuracy: 0.6054 - val_department_output_loss: 0.5347 - val_loss: 1.0852\n",
      "Epoch 35/100\n",
      "\u001b[1m37/37\u001b[0m \u001b[32m━━━━━━━━━━━━━━━━━━━━\u001b[0m\u001b[37m\u001b[0m \u001b[1m0s\u001b[0m 2ms/step - attrition_output_accuracy: 0.9509 - attrition_output_loss: 0.1528 - department_output_accuracy: 0.7113 - department_output_loss: 0.3920 - loss: 0.5448 - val_attrition_output_accuracy: 0.8469 - val_attrition_output_loss: 0.5254 - val_department_output_accuracy: 0.6395 - val_department_output_loss: 0.5315 - val_loss: 1.0983\n",
      "Epoch 36/100\n",
      "\u001b[1m37/37\u001b[0m \u001b[32m━━━━━━━━━━━━━━━━━━━━\u001b[0m\u001b[37m\u001b[0m \u001b[1m0s\u001b[0m 2ms/step - attrition_output_accuracy: 0.9417 - attrition_output_loss: 0.1508 - department_output_accuracy: 0.7036 - department_output_loss: 0.3928 - loss: 0.5436 - val_attrition_output_accuracy: 0.8265 - val_attrition_output_loss: 0.5288 - val_department_output_accuracy: 0.5986 - val_department_output_loss: 0.5314 - val_loss: 1.0939\n",
      "Epoch 37/100\n",
      "\u001b[1m37/37\u001b[0m \u001b[32m━━━━━━━━━━━━━━━━━━━━\u001b[0m\u001b[37m\u001b[0m \u001b[1m0s\u001b[0m 2ms/step - attrition_output_accuracy: 0.9451 - attrition_output_loss: 0.1500 - department_output_accuracy: 0.7120 - department_output_loss: 0.3885 - loss: 0.5385 - val_attrition_output_accuracy: 0.7857 - val_attrition_output_loss: 0.5562 - val_department_output_accuracy: 0.5986 - val_department_output_loss: 0.5361 - val_loss: 1.1233\n",
      "Epoch 38/100\n",
      "\u001b[1m37/37\u001b[0m \u001b[32m━━━━━━━━━━━━━━━━━━━━\u001b[0m\u001b[37m\u001b[0m \u001b[1m0s\u001b[0m 2ms/step - attrition_output_accuracy: 0.9446 - attrition_output_loss: 0.1605 - department_output_accuracy: 0.7007 - department_output_loss: 0.3926 - loss: 0.5532 - val_attrition_output_accuracy: 0.8129 - val_attrition_output_loss: 0.5884 - val_department_output_accuracy: 0.5646 - val_department_output_loss: 0.5473 - val_loss: 1.1626\n",
      "Epoch 39/100\n",
      "\u001b[1m37/37\u001b[0m \u001b[32m━━━━━━━━━━━━━━━━━━━━\u001b[0m\u001b[37m\u001b[0m \u001b[1m0s\u001b[0m 2ms/step - attrition_output_accuracy: 0.9496 - attrition_output_loss: 0.1323 - department_output_accuracy: 0.7288 - department_output_loss: 0.3761 - loss: 0.5085 - val_attrition_output_accuracy: 0.7993 - val_attrition_output_loss: 0.5554 - val_department_output_accuracy: 0.6293 - val_department_output_loss: 0.5432 - val_loss: 1.1415\n",
      "Epoch 40/100\n",
      "\u001b[1m37/37\u001b[0m \u001b[32m━━━━━━━━━━━━━━━━━━━━\u001b[0m\u001b[37m\u001b[0m \u001b[1m0s\u001b[0m 2ms/step - attrition_output_accuracy: 0.9638 - attrition_output_loss: 0.1164 - department_output_accuracy: 0.7307 - department_output_loss: 0.3697 - loss: 0.4860 - val_attrition_output_accuracy: 0.7891 - val_attrition_output_loss: 0.6252 - val_department_output_accuracy: 0.5612 - val_department_output_loss: 0.5539 - val_loss: 1.2146\n",
      "Epoch 41/100\n",
      "\u001b[1m37/37\u001b[0m \u001b[32m━━━━━━━━━━━━━━━━━━━━\u001b[0m\u001b[37m\u001b[0m \u001b[1m0s\u001b[0m 2ms/step - attrition_output_accuracy: 0.9604 - attrition_output_loss: 0.1117 - department_output_accuracy: 0.7431 - department_output_loss: 0.3766 - loss: 0.4883 - val_attrition_output_accuracy: 0.7993 - val_attrition_output_loss: 0.6306 - val_department_output_accuracy: 0.6088 - val_department_output_loss: 0.5480 - val_loss: 1.2098\n",
      "Epoch 42/100\n",
      "\u001b[1m37/37\u001b[0m \u001b[32m━━━━━━━━━━━━━━━━━━━━\u001b[0m\u001b[37m\u001b[0m \u001b[1m0s\u001b[0m 2ms/step - attrition_output_accuracy: 0.9685 - attrition_output_loss: 0.1138 - department_output_accuracy: 0.7449 - department_output_loss: 0.3747 - loss: 0.4884 - val_attrition_output_accuracy: 0.8265 - val_attrition_output_loss: 0.6070 - val_department_output_accuracy: 0.6020 - val_department_output_loss: 0.5522 - val_loss: 1.1998\n",
      "Epoch 43/100\n",
      "\u001b[1m37/37\u001b[0m \u001b[32m━━━━━━━━━━━━━━━━━━━━\u001b[0m\u001b[37m\u001b[0m \u001b[1m0s\u001b[0m 2ms/step - attrition_output_accuracy: 0.9438 - attrition_output_loss: 0.1370 - department_output_accuracy: 0.7395 - department_output_loss: 0.3592 - loss: 0.4962 - val_attrition_output_accuracy: 0.7857 - val_attrition_output_loss: 0.6396 - val_department_output_accuracy: 0.5918 - val_department_output_loss: 0.5615 - val_loss: 1.2300\n",
      "Epoch 44/100\n",
      "\u001b[1m37/37\u001b[0m \u001b[32m━━━━━━━━━━━━━━━━━━━━\u001b[0m\u001b[37m\u001b[0m \u001b[1m0s\u001b[0m 2ms/step - attrition_output_accuracy: 0.9552 - attrition_output_loss: 0.1171 - department_output_accuracy: 0.7410 - department_output_loss: 0.3730 - loss: 0.4900 - val_attrition_output_accuracy: 0.7993 - val_attrition_output_loss: 0.6960 - val_department_output_accuracy: 0.5850 - val_department_output_loss: 0.5646 - val_loss: 1.2810\n",
      "Epoch 45/100\n",
      "\u001b[1m37/37\u001b[0m \u001b[32m━━━━━━━━━━━━━━━━━━━━\u001b[0m\u001b[37m\u001b[0m \u001b[1m0s\u001b[0m 2ms/step - attrition_output_accuracy: 0.9622 - attrition_output_loss: 0.0985 - department_output_accuracy: 0.7517 - department_output_loss: 0.3576 - loss: 0.4562 - val_attrition_output_accuracy: 0.8231 - val_attrition_output_loss: 0.6501 - val_department_output_accuracy: 0.5918 - val_department_output_loss: 0.5709 - val_loss: 1.2654\n",
      "Epoch 46/100\n",
      "\u001b[1m37/37\u001b[0m \u001b[32m━━━━━━━━━━━━━━━━━━━━\u001b[0m\u001b[37m\u001b[0m \u001b[1m0s\u001b[0m 2ms/step - attrition_output_accuracy: 0.9637 - attrition_output_loss: 0.1013 - department_output_accuracy: 0.7387 - department_output_loss: 0.3573 - loss: 0.4586 - val_attrition_output_accuracy: 0.8061 - val_attrition_output_loss: 0.6698 - val_department_output_accuracy: 0.6054 - val_department_output_loss: 0.5664 - val_loss: 1.2827\n",
      "Epoch 47/100\n",
      "\u001b[1m37/37\u001b[0m \u001b[32m━━━━━━━━━━━━━━━━━━━━\u001b[0m\u001b[37m\u001b[0m \u001b[1m0s\u001b[0m 2ms/step - attrition_output_accuracy: 0.9775 - attrition_output_loss: 0.0811 - department_output_accuracy: 0.7554 - department_output_loss: 0.3529 - loss: 0.4339 - val_attrition_output_accuracy: 0.8095 - val_attrition_output_loss: 0.7304 - val_department_output_accuracy: 0.5850 - val_department_output_loss: 0.5755 - val_loss: 1.3516\n",
      "Epoch 48/100\n",
      "\u001b[1m37/37\u001b[0m \u001b[32m━━━━━━━━━━━━━━━━━━━━\u001b[0m\u001b[37m\u001b[0m \u001b[1m0s\u001b[0m 2ms/step - attrition_output_accuracy: 0.9605 - attrition_output_loss: 0.0959 - department_output_accuracy: 0.7475 - department_output_loss: 0.3550 - loss: 0.4508 - val_attrition_output_accuracy: 0.8061 - val_attrition_output_loss: 0.6905 - val_department_output_accuracy: 0.5816 - val_department_output_loss: 0.5821 - val_loss: 1.2928\n",
      "Epoch 49/100\n",
      "\u001b[1m37/37\u001b[0m \u001b[32m━━━━━━━━━━━━━━━━━━━━\u001b[0m\u001b[37m\u001b[0m \u001b[1m0s\u001b[0m 2ms/step - attrition_output_accuracy: 0.9747 - attrition_output_loss: 0.0854 - department_output_accuracy: 0.7699 - department_output_loss: 0.3411 - loss: 0.4265 - val_attrition_output_accuracy: 0.7891 - val_attrition_output_loss: 0.7477 - val_department_output_accuracy: 0.6224 - val_department_output_loss: 0.5857 - val_loss: 1.3668\n",
      "Epoch 50/100\n",
      "\u001b[1m37/37\u001b[0m \u001b[32m━━━━━━━━━━━━━━━━━━━━\u001b[0m\u001b[37m\u001b[0m \u001b[1m0s\u001b[0m 2ms/step - attrition_output_accuracy: 0.9670 - attrition_output_loss: 0.0977 - department_output_accuracy: 0.7446 - department_output_loss: 0.3563 - loss: 0.4541 - val_attrition_output_accuracy: 0.8571 - val_attrition_output_loss: 0.7382 - val_department_output_accuracy: 0.6156 - val_department_output_loss: 0.5766 - val_loss: 1.3992\n",
      "Epoch 51/100\n",
      "\u001b[1m37/37\u001b[0m \u001b[32m━━━━━━━━━━━━━━━━━━━━\u001b[0m\u001b[37m\u001b[0m \u001b[1m0s\u001b[0m 2ms/step - attrition_output_accuracy: 0.9631 - attrition_output_loss: 0.1003 - department_output_accuracy: 0.7703 - department_output_loss: 0.3353 - loss: 0.4357 - val_attrition_output_accuracy: 0.7857 - val_attrition_output_loss: 0.7826 - val_department_output_accuracy: 0.5680 - val_department_output_loss: 0.5819 - val_loss: 1.4090\n",
      "Epoch 52/100\n",
      "\u001b[1m37/37\u001b[0m \u001b[32m━━━━━━━━━━━━━━━━━━━━\u001b[0m\u001b[37m\u001b[0m \u001b[1m0s\u001b[0m 2ms/step - attrition_output_accuracy: 0.9732 - attrition_output_loss: 0.0791 - department_output_accuracy: 0.8058 - department_output_loss: 0.3141 - loss: 0.3932 - val_attrition_output_accuracy: 0.7959 - val_attrition_output_loss: 0.7823 - val_department_output_accuracy: 0.5340 - val_department_output_loss: 0.5988 - val_loss: 1.4258\n",
      "Epoch 53/100\n",
      "\u001b[1m37/37\u001b[0m \u001b[32m━━━━━━━━━━━━━━━━━━━━\u001b[0m\u001b[37m\u001b[0m \u001b[1m0s\u001b[0m 2ms/step - attrition_output_accuracy: 0.9770 - attrition_output_loss: 0.0763 - department_output_accuracy: 0.7884 - department_output_loss: 0.3188 - loss: 0.3950 - val_attrition_output_accuracy: 0.7959 - val_attrition_output_loss: 0.7532 - val_department_output_accuracy: 0.5408 - val_department_output_loss: 0.5977 - val_loss: 1.4168\n",
      "Epoch 54/100\n",
      "\u001b[1m37/37\u001b[0m \u001b[32m━━━━━━━━━━━━━━━━━━━━\u001b[0m\u001b[37m\u001b[0m \u001b[1m0s\u001b[0m 2ms/step - attrition_output_accuracy: 0.9774 - attrition_output_loss: 0.0758 - department_output_accuracy: 0.8116 - department_output_loss: 0.3062 - loss: 0.3820 - val_attrition_output_accuracy: 0.7857 - val_attrition_output_loss: 0.7470 - val_department_output_accuracy: 0.5816 - val_department_output_loss: 0.5997 - val_loss: 1.3952\n",
      "Epoch 55/100\n",
      "\u001b[1m37/37\u001b[0m \u001b[32m━━━━━━━━━━━━━━━━━━━━\u001b[0m\u001b[37m\u001b[0m \u001b[1m0s\u001b[0m 2ms/step - attrition_output_accuracy: 0.9771 - attrition_output_loss: 0.0762 - department_output_accuracy: 0.8020 - department_output_loss: 0.3208 - loss: 0.3970 - val_attrition_output_accuracy: 0.8027 - val_attrition_output_loss: 0.7660 - val_department_output_accuracy: 0.5884 - val_department_output_loss: 0.6056 - val_loss: 1.4288\n",
      "Epoch 56/100\n",
      "\u001b[1m37/37\u001b[0m \u001b[32m━━━━━━━━━━━━━━━━━━━━\u001b[0m\u001b[37m\u001b[0m \u001b[1m0s\u001b[0m 2ms/step - attrition_output_accuracy: 0.9672 - attrition_output_loss: 0.0855 - department_output_accuracy: 0.7995 - department_output_loss: 0.3089 - loss: 0.3944 - val_attrition_output_accuracy: 0.7925 - val_attrition_output_loss: 0.8292 - val_department_output_accuracy: 0.5850 - val_department_output_loss: 0.6123 - val_loss: 1.4664\n",
      "Epoch 57/100\n",
      "\u001b[1m37/37\u001b[0m \u001b[32m━━━━━━━━━━━━━━━━━━━━\u001b[0m\u001b[37m\u001b[0m \u001b[1m0s\u001b[0m 2ms/step - attrition_output_accuracy: 0.9856 - attrition_output_loss: 0.0598 - department_output_accuracy: 0.7966 - department_output_loss: 0.3052 - loss: 0.3650 - val_attrition_output_accuracy: 0.8231 - val_attrition_output_loss: 0.8309 - val_department_output_accuracy: 0.5816 - val_department_output_loss: 0.6170 - val_loss: 1.5150\n",
      "Epoch 58/100\n",
      "\u001b[1m37/37\u001b[0m \u001b[32m━━━━━━━━━━━━━━━━━━━━\u001b[0m\u001b[37m\u001b[0m \u001b[1m0s\u001b[0m 2ms/step - attrition_output_accuracy: 0.9842 - attrition_output_loss: 0.0563 - department_output_accuracy: 0.7942 - department_output_loss: 0.3073 - loss: 0.3637 - val_attrition_output_accuracy: 0.8163 - val_attrition_output_loss: 0.8411 - val_department_output_accuracy: 0.5408 - val_department_output_loss: 0.6282 - val_loss: 1.5473\n",
      "Epoch 59/100\n",
      "\u001b[1m37/37\u001b[0m \u001b[32m━━━━━━━━━━━━━━━━━━━━\u001b[0m\u001b[37m\u001b[0m \u001b[1m0s\u001b[0m 2ms/step - attrition_output_accuracy: 0.9762 - attrition_output_loss: 0.0572 - department_output_accuracy: 0.8074 - department_output_loss: 0.3008 - loss: 0.3580 - val_attrition_output_accuracy: 0.7891 - val_attrition_output_loss: 0.8775 - val_department_output_accuracy: 0.5918 - val_department_output_loss: 0.6304 - val_loss: 1.5692\n",
      "Epoch 60/100\n",
      "\u001b[1m37/37\u001b[0m \u001b[32m━━━━━━━━━━━━━━━━━━━━\u001b[0m\u001b[37m\u001b[0m \u001b[1m0s\u001b[0m 2ms/step - attrition_output_accuracy: 0.9862 - attrition_output_loss: 0.0532 - department_output_accuracy: 0.8129 - department_output_loss: 0.2887 - loss: 0.3419 - val_attrition_output_accuracy: 0.7721 - val_attrition_output_loss: 0.9323 - val_department_output_accuracy: 0.5646 - val_department_output_loss: 0.6361 - val_loss: 1.6059\n",
      "Epoch 61/100\n",
      "\u001b[1m37/37\u001b[0m \u001b[32m━━━━━━━━━━━━━━━━━━━━\u001b[0m\u001b[37m\u001b[0m \u001b[1m0s\u001b[0m 2ms/step - attrition_output_accuracy: 0.9642 - attrition_output_loss: 0.0760 - department_output_accuracy: 0.8166 - department_output_loss: 0.2921 - loss: 0.3681 - val_attrition_output_accuracy: 0.7925 - val_attrition_output_loss: 0.8502 - val_department_output_accuracy: 0.5680 - val_department_output_loss: 0.6432 - val_loss: 1.5636\n",
      "Epoch 62/100\n",
      "\u001b[1m37/37\u001b[0m \u001b[32m━━━━━━━━━━━━━━━━━━━━\u001b[0m\u001b[37m\u001b[0m \u001b[1m0s\u001b[0m 2ms/step - attrition_output_accuracy: 0.9867 - attrition_output_loss: 0.0477 - department_output_accuracy: 0.8456 - department_output_loss: 0.2680 - loss: 0.3157 - val_attrition_output_accuracy: 0.7925 - val_attrition_output_loss: 0.9260 - val_department_output_accuracy: 0.5374 - val_department_output_loss: 0.6451 - val_loss: 1.6407\n",
      "Epoch 63/100\n",
      "\u001b[1m37/37\u001b[0m \u001b[32m━━━━━━━━━━━━━━━━━━━━\u001b[0m\u001b[37m\u001b[0m \u001b[1m0s\u001b[0m 2ms/step - attrition_output_accuracy: 0.9739 - attrition_output_loss: 0.0734 - department_output_accuracy: 0.8190 - department_output_loss: 0.2860 - loss: 0.3594 - val_attrition_output_accuracy: 0.7755 - val_attrition_output_loss: 0.8787 - val_department_output_accuracy: 0.5782 - val_department_output_loss: 0.6492 - val_loss: 1.5895\n",
      "Epoch 64/100\n",
      "\u001b[1m37/37\u001b[0m \u001b[32m━━━━━━━━━━━━━━━━━━━━\u001b[0m\u001b[37m\u001b[0m \u001b[1m0s\u001b[0m 2ms/step - attrition_output_accuracy: 0.9791 - attrition_output_loss: 0.0661 - department_output_accuracy: 0.8171 - department_output_loss: 0.2860 - loss: 0.3520 - val_attrition_output_accuracy: 0.7993 - val_attrition_output_loss: 0.8777 - val_department_output_accuracy: 0.5918 - val_department_output_loss: 0.6730 - val_loss: 1.6349\n",
      "Epoch 65/100\n",
      "\u001b[1m37/37\u001b[0m \u001b[32m━━━━━━━━━━━━━━━━━━━━\u001b[0m\u001b[37m\u001b[0m \u001b[1m0s\u001b[0m 2ms/step - attrition_output_accuracy: 0.9901 - attrition_output_loss: 0.0444 - department_output_accuracy: 0.8362 - department_output_loss: 0.2781 - loss: 0.3226 - val_attrition_output_accuracy: 0.8231 - val_attrition_output_loss: 0.8785 - val_department_output_accuracy: 0.5680 - val_department_output_loss: 0.6709 - val_loss: 1.6359\n",
      "Epoch 66/100\n",
      "\u001b[1m37/37\u001b[0m \u001b[32m━━━━━━━━━━━━━━━━━━━━\u001b[0m\u001b[37m\u001b[0m \u001b[1m0s\u001b[0m 2ms/step - attrition_output_accuracy: 0.9866 - attrition_output_loss: 0.0419 - department_output_accuracy: 0.8525 - department_output_loss: 0.2613 - loss: 0.3032 - val_attrition_output_accuracy: 0.8027 - val_attrition_output_loss: 0.9017 - val_department_output_accuracy: 0.5272 - val_department_output_loss: 0.6971 - val_loss: 1.6744\n",
      "Epoch 67/100\n",
      "\u001b[1m37/37\u001b[0m \u001b[32m━━━━━━━━━━━━━━━━━━━━\u001b[0m\u001b[37m\u001b[0m \u001b[1m0s\u001b[0m 2ms/step - attrition_output_accuracy: 0.9876 - attrition_output_loss: 0.0472 - department_output_accuracy: 0.8391 - department_output_loss: 0.2543 - loss: 0.3014 - val_attrition_output_accuracy: 0.8095 - val_attrition_output_loss: 0.9772 - val_department_output_accuracy: 0.5374 - val_department_output_loss: 0.6688 - val_loss: 1.7223\n",
      "Epoch 68/100\n",
      "\u001b[1m37/37\u001b[0m \u001b[32m━━━━━━━━━━━━━━━━━━━━\u001b[0m\u001b[37m\u001b[0m \u001b[1m0s\u001b[0m 2ms/step - attrition_output_accuracy: 0.9934 - attrition_output_loss: 0.0416 - department_output_accuracy: 0.8481 - department_output_loss: 0.2680 - loss: 0.3095 - val_attrition_output_accuracy: 0.7857 - val_attrition_output_loss: 0.9846 - val_department_output_accuracy: 0.5714 - val_department_output_loss: 0.6846 - val_loss: 1.7537\n",
      "Epoch 69/100\n",
      "\u001b[1m37/37\u001b[0m \u001b[32m━━━━━━━━━━━━━━━━━━━━\u001b[0m\u001b[37m\u001b[0m \u001b[1m0s\u001b[0m 3ms/step - attrition_output_accuracy: 0.9855 - attrition_output_loss: 0.0489 - department_output_accuracy: 0.8415 - department_output_loss: 0.2452 - loss: 0.2940 - val_attrition_output_accuracy: 0.7755 - val_attrition_output_loss: 0.9712 - val_department_output_accuracy: 0.5476 - val_department_output_loss: 0.6898 - val_loss: 1.7575\n",
      "Epoch 70/100\n",
      "\u001b[1m37/37\u001b[0m \u001b[32m━━━━━━━━━━━━━━━━━━━━\u001b[0m\u001b[37m\u001b[0m \u001b[1m0s\u001b[0m 3ms/step - attrition_output_accuracy: 0.9835 - attrition_output_loss: 0.0475 - department_output_accuracy: 0.8509 - department_output_loss: 0.2569 - loss: 0.3043 - val_attrition_output_accuracy: 0.7585 - val_attrition_output_loss: 1.0861 - val_department_output_accuracy: 0.5510 - val_department_output_loss: 0.6985 - val_loss: 1.8454\n",
      "Epoch 71/100\n",
      "\u001b[1m37/37\u001b[0m \u001b[32m━━━━━━━━━━━━━━━━━━━━\u001b[0m\u001b[37m\u001b[0m \u001b[1m0s\u001b[0m 2ms/step - attrition_output_accuracy: 0.9855 - attrition_output_loss: 0.0459 - department_output_accuracy: 0.8793 - department_output_loss: 0.2349 - loss: 0.2808 - val_attrition_output_accuracy: 0.7925 - val_attrition_output_loss: 0.9841 - val_department_output_accuracy: 0.5544 - val_department_output_loss: 0.6976 - val_loss: 1.7833\n",
      "Epoch 72/100\n",
      "\u001b[1m37/37\u001b[0m \u001b[32m━━━━━━━━━━━━━━━━━━━━\u001b[0m\u001b[37m\u001b[0m \u001b[1m0s\u001b[0m 2ms/step - attrition_output_accuracy: 0.9966 - attrition_output_loss: 0.0329 - department_output_accuracy: 0.8611 - department_output_loss: 0.2396 - loss: 0.2725 - val_attrition_output_accuracy: 0.7993 - val_attrition_output_loss: 1.0664 - val_department_output_accuracy: 0.5612 - val_department_output_loss: 0.7139 - val_loss: 1.8454\n",
      "Epoch 73/100\n",
      "\u001b[1m37/37\u001b[0m \u001b[32m━━━━━━━━━━━━━━━━━━━━\u001b[0m\u001b[37m\u001b[0m \u001b[1m0s\u001b[0m 2ms/step - attrition_output_accuracy: 0.9928 - attrition_output_loss: 0.0369 - department_output_accuracy: 0.8674 - department_output_loss: 0.2318 - loss: 0.2687 - val_attrition_output_accuracy: 0.8503 - val_attrition_output_loss: 1.1058 - val_department_output_accuracy: 0.5442 - val_department_output_loss: 0.7290 - val_loss: 1.9499\n",
      "Epoch 74/100\n",
      "\u001b[1m37/37\u001b[0m \u001b[32m━━━━━━━━━━━━━━━━━━━━\u001b[0m\u001b[37m\u001b[0m \u001b[1m0s\u001b[0m 2ms/step - attrition_output_accuracy: 0.9813 - attrition_output_loss: 0.0460 - department_output_accuracy: 0.8771 - department_output_loss: 0.2293 - loss: 0.2753 - val_attrition_output_accuracy: 0.8367 - val_attrition_output_loss: 1.0523 - val_department_output_accuracy: 0.5476 - val_department_output_loss: 0.7540 - val_loss: 1.9159\n",
      "Epoch 75/100\n",
      "\u001b[1m37/37\u001b[0m \u001b[32m━━━━━━━━━━━━━━━━━━━━\u001b[0m\u001b[37m\u001b[0m \u001b[1m0s\u001b[0m 2ms/step - attrition_output_accuracy: 0.9866 - attrition_output_loss: 0.0417 - department_output_accuracy: 0.8852 - department_output_loss: 0.2200 - loss: 0.2617 - val_attrition_output_accuracy: 0.7993 - val_attrition_output_loss: 1.0827 - val_department_output_accuracy: 0.5714 - val_department_output_loss: 0.7243 - val_loss: 1.9212\n",
      "Epoch 76/100\n",
      "\u001b[1m37/37\u001b[0m \u001b[32m━━━━━━━━━━━━━━━━━━━━\u001b[0m\u001b[37m\u001b[0m \u001b[1m0s\u001b[0m 2ms/step - attrition_output_accuracy: 0.9855 - attrition_output_loss: 0.0384 - department_output_accuracy: 0.8605 - department_output_loss: 0.2294 - loss: 0.2678 - val_attrition_output_accuracy: 0.7551 - val_attrition_output_loss: 1.1167 - val_department_output_accuracy: 0.5782 - val_department_output_loss: 0.7460 - val_loss: 1.9622\n",
      "Epoch 77/100\n",
      "\u001b[1m37/37\u001b[0m \u001b[32m━━━━━━━━━━━━━━━━━━━━\u001b[0m\u001b[37m\u001b[0m \u001b[1m0s\u001b[0m 2ms/step - attrition_output_accuracy: 0.9832 - attrition_output_loss: 0.0475 - department_output_accuracy: 0.8674 - department_output_loss: 0.2218 - loss: 0.2693 - val_attrition_output_accuracy: 0.8333 - val_attrition_output_loss: 1.0317 - val_department_output_accuracy: 0.5544 - val_department_output_loss: 0.7398 - val_loss: 1.8818\n",
      "Epoch 78/100\n",
      "\u001b[1m37/37\u001b[0m \u001b[32m━━━━━━━━━━━━━━━━━━━━\u001b[0m\u001b[37m\u001b[0m \u001b[1m0s\u001b[0m 2ms/step - attrition_output_accuracy: 0.9881 - attrition_output_loss: 0.0341 - department_output_accuracy: 0.8932 - department_output_loss: 0.2097 - loss: 0.2437 - val_attrition_output_accuracy: 0.8061 - val_attrition_output_loss: 1.1060 - val_department_output_accuracy: 0.5782 - val_department_output_loss: 0.7699 - val_loss: 1.9994\n",
      "Epoch 79/100\n",
      "\u001b[1m37/37\u001b[0m \u001b[32m━━━━━━━━━━━━━━━━━━━━\u001b[0m\u001b[37m\u001b[0m \u001b[1m0s\u001b[0m 2ms/step - attrition_output_accuracy: 0.9943 - attrition_output_loss: 0.0328 - department_output_accuracy: 0.9077 - department_output_loss: 0.1918 - loss: 0.2246 - val_attrition_output_accuracy: 0.7823 - val_attrition_output_loss: 1.1039 - val_department_output_accuracy: 0.5748 - val_department_output_loss: 0.7698 - val_loss: 1.9519\n",
      "Epoch 80/100\n",
      "\u001b[1m37/37\u001b[0m \u001b[32m━━━━━━━━━━━━━━━━━━━━\u001b[0m\u001b[37m\u001b[0m \u001b[1m0s\u001b[0m 2ms/step - attrition_output_accuracy: 0.9958 - attrition_output_loss: 0.0234 - department_output_accuracy: 0.9042 - department_output_loss: 0.1927 - loss: 0.2162 - val_attrition_output_accuracy: 0.8163 - val_attrition_output_loss: 1.1531 - val_department_output_accuracy: 0.5612 - val_department_output_loss: 0.7598 - val_loss: 2.0279\n",
      "Epoch 81/100\n",
      "\u001b[1m37/37\u001b[0m \u001b[32m━━━━━━━━━━━━━━━━━━━━\u001b[0m\u001b[37m\u001b[0m \u001b[1m0s\u001b[0m 2ms/step - attrition_output_accuracy: 0.9978 - attrition_output_loss: 0.0214 - department_output_accuracy: 0.9000 - department_output_loss: 0.2030 - loss: 0.2243 - val_attrition_output_accuracy: 0.7755 - val_attrition_output_loss: 1.1369 - val_department_output_accuracy: 0.5578 - val_department_output_loss: 0.7972 - val_loss: 2.0614\n",
      "Epoch 82/100\n",
      "\u001b[1m37/37\u001b[0m \u001b[32m━━━━━━━━━━━━━━━━━━━━\u001b[0m\u001b[37m\u001b[0m \u001b[1m0s\u001b[0m 2ms/step - attrition_output_accuracy: 0.9914 - attrition_output_loss: 0.0301 - department_output_accuracy: 0.9054 - department_output_loss: 0.1860 - loss: 0.2160 - val_attrition_output_accuracy: 0.7993 - val_attrition_output_loss: 1.1351 - val_department_output_accuracy: 0.5952 - val_department_output_loss: 0.7943 - val_loss: 2.0507\n",
      "Epoch 83/100\n",
      "\u001b[1m37/37\u001b[0m \u001b[32m━━━━━━━━━━━━━━━━━━━━\u001b[0m\u001b[37m\u001b[0m \u001b[1m0s\u001b[0m 2ms/step - attrition_output_accuracy: 0.9981 - attrition_output_loss: 0.0190 - department_output_accuracy: 0.8923 - department_output_loss: 0.1886 - loss: 0.2076 - val_attrition_output_accuracy: 0.8197 - val_attrition_output_loss: 1.1722 - val_department_output_accuracy: 0.5748 - val_department_output_loss: 0.7865 - val_loss: 2.0838\n",
      "Epoch 84/100\n",
      "\u001b[1m37/37\u001b[0m \u001b[32m━━━━━━━━━━━━━━━━━━━━\u001b[0m\u001b[37m\u001b[0m \u001b[1m0s\u001b[0m 2ms/step - attrition_output_accuracy: 0.9942 - attrition_output_loss: 0.0279 - department_output_accuracy: 0.9120 - department_output_loss: 0.1858 - loss: 0.2137 - val_attrition_output_accuracy: 0.8333 - val_attrition_output_loss: 1.1898 - val_department_output_accuracy: 0.5952 - val_department_output_loss: 0.8135 - val_loss: 2.1378\n",
      "Epoch 85/100\n",
      "\u001b[1m37/37\u001b[0m \u001b[32m━━━━━━━━━━━━━━━━━━━━\u001b[0m\u001b[37m\u001b[0m \u001b[1m0s\u001b[0m 2ms/step - attrition_output_accuracy: 0.9871 - attrition_output_loss: 0.0340 - department_output_accuracy: 0.9121 - department_output_loss: 0.1827 - loss: 0.2167 - val_attrition_output_accuracy: 0.7755 - val_attrition_output_loss: 1.3183 - val_department_output_accuracy: 0.5340 - val_department_output_loss: 0.8404 - val_loss: 2.2469\n",
      "Epoch 86/100\n",
      "\u001b[1m37/37\u001b[0m \u001b[32m━━━━━━━━━━━━━━━━━━━━\u001b[0m\u001b[37m\u001b[0m \u001b[1m0s\u001b[0m 2ms/step - attrition_output_accuracy: 0.9897 - attrition_output_loss: 0.0336 - department_output_accuracy: 0.9040 - department_output_loss: 0.1871 - loss: 0.2207 - val_attrition_output_accuracy: 0.7993 - val_attrition_output_loss: 1.1753 - val_department_output_accuracy: 0.5714 - val_department_output_loss: 0.8342 - val_loss: 2.1235\n",
      "Epoch 87/100\n",
      "\u001b[1m37/37\u001b[0m \u001b[32m━━━━━━━━━━━━━━━━━━━━\u001b[0m\u001b[37m\u001b[0m \u001b[1m0s\u001b[0m 2ms/step - attrition_output_accuracy: 0.9893 - attrition_output_loss: 0.0372 - department_output_accuracy: 0.9131 - department_output_loss: 0.1716 - loss: 0.2088 - val_attrition_output_accuracy: 0.8435 - val_attrition_output_loss: 1.2417 - val_department_output_accuracy: 0.6122 - val_department_output_loss: 0.8564 - val_loss: 2.2493\n",
      "Epoch 88/100\n",
      "\u001b[1m37/37\u001b[0m \u001b[32m━━━━━━━━━━━━━━━━━━━━\u001b[0m\u001b[37m\u001b[0m \u001b[1m0s\u001b[0m 3ms/step - attrition_output_accuracy: 0.9753 - attrition_output_loss: 0.0588 - department_output_accuracy: 0.9132 - department_output_loss: 0.1697 - loss: 0.2286 - val_attrition_output_accuracy: 0.7993 - val_attrition_output_loss: 1.2086 - val_department_output_accuracy: 0.5510 - val_department_output_loss: 0.8566 - val_loss: 2.1460\n",
      "Epoch 89/100\n",
      "\u001b[1m37/37\u001b[0m \u001b[32m━━━━━━━━━━━━━━━━━━━━\u001b[0m\u001b[37m\u001b[0m \u001b[1m0s\u001b[0m 2ms/step - attrition_output_accuracy: 0.9954 - attrition_output_loss: 0.0263 - department_output_accuracy: 0.9111 - department_output_loss: 0.1753 - loss: 0.2016 - val_attrition_output_accuracy: 0.7789 - val_attrition_output_loss: 1.3653 - val_department_output_accuracy: 0.5544 - val_department_output_loss: 0.8569 - val_loss: 2.2773\n",
      "Epoch 90/100\n",
      "\u001b[1m37/37\u001b[0m \u001b[32m━━━━━━━━━━━━━━━━━━━━\u001b[0m\u001b[37m\u001b[0m \u001b[1m0s\u001b[0m 2ms/step - attrition_output_accuracy: 0.9917 - attrition_output_loss: 0.0253 - department_output_accuracy: 0.9295 - department_output_loss: 0.1585 - loss: 0.1838 - val_attrition_output_accuracy: 0.8163 - val_attrition_output_loss: 1.2625 - val_department_output_accuracy: 0.5272 - val_department_output_loss: 0.8853 - val_loss: 2.2691\n",
      "Epoch 91/100\n",
      "\u001b[1m37/37\u001b[0m \u001b[32m━━━━━━━━━━━━━━━━━━━━\u001b[0m\u001b[37m\u001b[0m \u001b[1m0s\u001b[0m 2ms/step - attrition_output_accuracy: 0.9966 - attrition_output_loss: 0.0220 - department_output_accuracy: 0.9173 - department_output_loss: 0.1667 - loss: 0.1887 - val_attrition_output_accuracy: 0.7857 - val_attrition_output_loss: 1.2342 - val_department_output_accuracy: 0.5408 - val_department_output_loss: 0.9152 - val_loss: 2.3011\n",
      "Epoch 92/100\n",
      "\u001b[1m37/37\u001b[0m \u001b[32m━━━━━━━━━━━━━━━━━━━━\u001b[0m\u001b[37m\u001b[0m \u001b[1m0s\u001b[0m 2ms/step - attrition_output_accuracy: 0.9926 - attrition_output_loss: 0.0299 - department_output_accuracy: 0.9343 - department_output_loss: 0.1501 - loss: 0.1800 - val_attrition_output_accuracy: 0.7789 - val_attrition_output_loss: 1.2807 - val_department_output_accuracy: 0.5714 - val_department_output_loss: 0.8859 - val_loss: 2.3083\n",
      "Epoch 93/100\n",
      "\u001b[1m37/37\u001b[0m \u001b[32m━━━━━━━━━━━━━━━━━━━━\u001b[0m\u001b[37m\u001b[0m \u001b[1m0s\u001b[0m 2ms/step - attrition_output_accuracy: 0.9896 - attrition_output_loss: 0.0317 - department_output_accuracy: 0.9318 - department_output_loss: 0.1443 - loss: 0.1761 - val_attrition_output_accuracy: 0.7959 - val_attrition_output_loss: 1.2570 - val_department_output_accuracy: 0.5204 - val_department_output_loss: 0.9225 - val_loss: 2.3233\n",
      "Epoch 94/100\n",
      "\u001b[1m37/37\u001b[0m \u001b[32m━━━━━━━━━━━━━━━━━━━━\u001b[0m\u001b[37m\u001b[0m \u001b[1m0s\u001b[0m 2ms/step - attrition_output_accuracy: 0.9929 - attrition_output_loss: 0.0253 - department_output_accuracy: 0.9257 - department_output_loss: 0.1614 - loss: 0.1867 - val_attrition_output_accuracy: 0.8027 - val_attrition_output_loss: 1.2900 - val_department_output_accuracy: 0.6122 - val_department_output_loss: 0.9287 - val_loss: 2.3689\n",
      "Epoch 95/100\n",
      "\u001b[1m37/37\u001b[0m \u001b[32m━━━━━━━━━━━━━━━━━━━━\u001b[0m\u001b[37m\u001b[0m \u001b[1m0s\u001b[0m 2ms/step - attrition_output_accuracy: 0.9881 - attrition_output_loss: 0.0405 - department_output_accuracy: 0.9274 - department_output_loss: 0.1495 - loss: 0.1900 - val_attrition_output_accuracy: 0.7993 - val_attrition_output_loss: 1.3693 - val_department_output_accuracy: 0.5884 - val_department_output_loss: 0.8861 - val_loss: 2.4105\n",
      "Epoch 96/100\n",
      "\u001b[1m37/37\u001b[0m \u001b[32m━━━━━━━━━━━━━━━━━━━━\u001b[0m\u001b[37m\u001b[0m \u001b[1m0s\u001b[0m 2ms/step - attrition_output_accuracy: 0.9867 - attrition_output_loss: 0.0461 - department_output_accuracy: 0.9347 - department_output_loss: 0.1479 - loss: 0.1940 - val_attrition_output_accuracy: 0.8061 - val_attrition_output_loss: 1.3699 - val_department_output_accuracy: 0.5748 - val_department_output_loss: 0.9254 - val_loss: 2.4268\n",
      "Epoch 97/100\n",
      "\u001b[1m37/37\u001b[0m \u001b[32m━━━━━━━━━━━━━━━━━━━━\u001b[0m\u001b[37m\u001b[0m \u001b[1m0s\u001b[0m 2ms/step - attrition_output_accuracy: 0.9837 - attrition_output_loss: 0.0424 - department_output_accuracy: 0.9326 - department_output_loss: 0.1361 - loss: 0.1785 - val_attrition_output_accuracy: 0.7959 - val_attrition_output_loss: 1.3196 - val_department_output_accuracy: 0.5782 - val_department_output_loss: 0.9379 - val_loss: 2.4140\n",
      "Epoch 98/100\n",
      "\u001b[1m37/37\u001b[0m \u001b[32m━━━━━━━━━━━━━━━━━━━━\u001b[0m\u001b[37m\u001b[0m \u001b[1m0s\u001b[0m 2ms/step - attrition_output_accuracy: 0.9792 - attrition_output_loss: 0.0467 - department_output_accuracy: 0.9405 - department_output_loss: 0.1352 - loss: 0.1819 - val_attrition_output_accuracy: 0.7857 - val_attrition_output_loss: 1.4047 - val_department_output_accuracy: 0.5374 - val_department_output_loss: 0.9349 - val_loss: 2.4896\n",
      "Epoch 99/100\n",
      "\u001b[1m37/37\u001b[0m \u001b[32m━━━━━━━━━━━━━━━━━━━━\u001b[0m\u001b[37m\u001b[0m \u001b[1m0s\u001b[0m 2ms/step - attrition_output_accuracy: 0.9912 - attrition_output_loss: 0.0326 - department_output_accuracy: 0.9437 - department_output_loss: 0.1290 - loss: 0.1616 - val_attrition_output_accuracy: 0.8027 - val_attrition_output_loss: 1.3566 - val_department_output_accuracy: 0.5782 - val_department_output_loss: 0.9535 - val_loss: 2.4609\n",
      "Epoch 100/100\n",
      "\u001b[1m37/37\u001b[0m \u001b[32m━━━━━━━━━━━━━━━━━━━━\u001b[0m\u001b[37m\u001b[0m \u001b[1m0s\u001b[0m 2ms/step - attrition_output_accuracy: 0.9982 - attrition_output_loss: 0.0137 - department_output_accuracy: 0.9460 - department_output_loss: 0.1248 - loss: 0.1385 - val_attrition_output_accuracy: 0.7789 - val_attrition_output_loss: 1.3967 - val_department_output_accuracy: 0.5578 - val_department_output_loss: 0.9527 - val_loss: 2.5145\n",
      "{'attrition_output_accuracy': [0.831632673740387, 0.8307822942733765, 0.8367347121238708, 0.8426870703697205, 0.8401360511779785, 0.8384353518486023, 0.8426870703697205, 0.8452380895614624, 0.8520408272743225, 0.8477891087532043, 0.853741466999054, 0.851190447807312, 0.8520408272743225, 0.863095223903656, 0.8554421663284302, 0.8673469424247742, 0.8741496801376343, 0.875, 0.884353756904602, 0.8775510191917419, 0.8826530575752258, 0.8775510191917419, 0.8886054158210754, 0.8937074542045593, 0.8979591727256775, 0.9047619104385376, 0.9013605713844299, 0.9090136289596558, 0.9192177057266235, 0.9047619104385376, 0.9149659872055054, 0.930272102355957, 0.9345238208770752, 0.9251700639724731, 0.9336734414100647, 0.9413265585899353, 0.9387755393981934, 0.9379251599311829, 0.9413265585899353, 0.9523809552192688, 0.9523809552192688, 0.9583333134651184, 0.9523809552192688, 0.9617347121238708, 0.9591836929321289, 0.9642857313156128, 0.9710884094238281, 0.9625850319862366, 0.9693877696990967, 0.9583333134651184, 0.9617347121238708, 0.9693877696990967, 0.9668367505073547, 0.9693877696990967, 0.9719387888908386, 0.9702380895614624, 0.9855442047119141, 0.9778911471366882, 0.9804421663284302, 0.9812925457954407, 0.9702380895614624, 0.9812925457954407, 0.9753401279449463, 0.976190447807312, 0.9872449040412903, 0.9846938848495483, 0.9872449040412903, 0.9897959232330322, 0.9863945841789246, 0.9846938848495483, 0.9838435649871826, 0.9940476417541504, 0.990646243095398, 0.9821428656578064, 0.9846938848495483, 0.9889456033706665, 0.9812925457954407, 0.9863945841789246, 0.9897959232330322, 0.9923469424247742, 0.9948979616165161, 0.9940476417541504, 0.9974489808082581, 0.9931972622871399, 0.9838435649871826, 0.9897959232330322, 0.9846938848495483, 0.9812925457954407, 0.9923469424247742, 0.9931972622871399, 0.9940476417541504, 0.9923469424247742, 0.9897959232330322, 0.9897959232330322, 0.9889456033706665, 0.9829931855201721, 0.9795918464660645, 0.9812925457954407, 0.9948979616165161, 0.9965986609458923], 'attrition_output_loss': [0.46925637125968933, 0.4210110008716583, 0.40966203808784485, 0.39794453978538513, 0.39054256677627563, 0.37920963764190674, 0.36985912919044495, 0.36376509070396423, 0.3565516769886017, 0.34703755378723145, 0.3400583863258362, 0.33406034111976624, 0.32792750000953674, 0.32299432158470154, 0.315171480178833, 0.3007509410381317, 0.29360365867614746, 0.28903111815452576, 0.2763584554195404, 0.27807188034057617, 0.2693340480327606, 0.2635852098464966, 0.2620522677898407, 0.2418195903301239, 0.23780451714992523, 0.23195037245750427, 0.2141309231519699, 0.21000874042510986, 0.20165662467479706, 0.2003747522830963, 0.19191159307956696, 0.17732439935207367, 0.1680668294429779, 0.1694352626800537, 0.16930930316448212, 0.15426790714263916, 0.15123018622398376, 0.15817804634571075, 0.13695582747459412, 0.12856945395469666, 0.12606549263000488, 0.11854106187820435, 0.12235607951879501, 0.11142490804195404, 0.10927173495292664, 0.10255919396877289, 0.08965042233467102, 0.09794685989618301, 0.09072248637676239, 0.1039428636431694, 0.10428102314472198, 0.08522918075323105, 0.08690030872821808, 0.08857811987400055, 0.08353491872549057, 0.0788494199514389, 0.06003270298242569, 0.0673840343952179, 0.05889245495200157, 0.061420802026987076, 0.06998579204082489, 0.0577550046145916, 0.0688311755657196, 0.06521502137184143, 0.04936760291457176, 0.045443061739206314, 0.047359008342027664, 0.04316657409071922, 0.04492206126451492, 0.04925985634326935, 0.047243665903806686, 0.03441247716546059, 0.04105211794376373, 0.049223728477954865, 0.0463903546333313, 0.03825404495000839, 0.05199192836880684, 0.03925151005387306, 0.039062418043613434, 0.026313383132219315, 0.02793576568365097, 0.026608232408761978, 0.020449716597795486, 0.026586350053548813, 0.03912664204835892, 0.03380136936903, 0.04744556173682213, 0.051672033965587616, 0.032063405960798264, 0.02698424458503723, 0.02400107868015766, 0.03349848464131355, 0.03332332521677017, 0.030935490503907204, 0.036691490560770035, 0.052912138402462006, 0.05647735297679901, 0.04993871599435806, 0.026015523821115494, 0.015944216400384903], 'department_output_accuracy': [0.6122449040412903, 0.6505101919174194, 0.6505101919174194, 0.6505101919174194, 0.6505101919174194, 0.6513605713844299, 0.6505101919174194, 0.6513605713844299, 0.6513605713844299, 0.6496598720550537, 0.6513605713844299, 0.6539115905761719, 0.6564626097679138, 0.6530612111091614, 0.6556122303009033, 0.6547619104385376, 0.6607142686843872, 0.6632652878761292, 0.6726190447807312, 0.6692177057266235, 0.6768707633018494, 0.6692177057266235, 0.6734693646430969, 0.6794217824935913, 0.6777210831642151, 0.6760203838348389, 0.6819728016853333, 0.6887755393981934, 0.694727897644043, 0.6981292366981506, 0.7015306353569031, 0.694727897644043, 0.6998299360275269, 0.706632673740387, 0.6998299360275269, 0.6998299360275269, 0.7185373902320862, 0.7134353518486023, 0.7193877696990967, 0.7210884094238281, 0.728741466999054, 0.7389456033706665, 0.7338435649871826, 0.7448979616165161, 0.7389456033706665, 0.7491496801376343, 0.7525510191917419, 0.75, 0.7636054158210754, 0.759353756904602, 0.7670068144798279, 0.7780612111091614, 0.7661564350128174, 0.7916666865348816, 0.7925170063972473, 0.7942177057266235, 0.7967687249183655, 0.793367326259613, 0.7899659872055054, 0.7950680255889893, 0.8120748400688171, 0.8154761791229248, 0.8188775777816772, 0.8256802558898926, 0.8324829936027527, 0.8375850319862366, 0.8392857313156128, 0.8520408272743225, 0.8443877696990967, 0.8605442047119141, 0.8605442047119141, 0.8588435649871826, 0.8622449040412903, 0.863095223903656, 0.875, 0.8588435649871826, 0.8741496801376343, 0.884353756904602, 0.8894557952880859, 0.8954081535339355, 0.8894557952880859, 0.9030612111091614, 0.8954081535339355, 0.9005101919174194, 0.9073129296302795, 0.9090136289596558, 0.9124149680137634, 0.8996598720550537, 0.9166666865348816, 0.9192177057266235, 0.9141156673431396, 0.920918345451355, 0.9107142686843872, 0.9124149680137634, 0.9285714030265808, 0.9336734414100647, 0.9251700639724731, 0.9319728016853333, 0.930272102355957, 0.9404761791229248], 'department_output_loss': [0.5607334971427917, 0.48051196336746216, 0.477250337600708, 0.4745236933231354, 0.4746559262275696, 0.47333136200904846, 0.46902528405189514, 0.46943989396095276, 0.46645039319992065, 0.4666455388069153, 0.46402034163475037, 0.4614599049091339, 0.46000948548316956, 0.4591390788555145, 0.45691877603530884, 0.4540487229824066, 0.45541098713874817, 0.4518475830554962, 0.4479611814022064, 0.4453426003456116, 0.44364556670188904, 0.44254422187805176, 0.43871447443962097, 0.43479543924331665, 0.4348474442958832, 0.42960307002067566, 0.42771267890930176, 0.42356595396995544, 0.41931411623954773, 0.416337251663208, 0.41610652208328247, 0.41182032227516174, 0.4081864058971405, 0.4058188796043396, 0.40505456924438477, 0.3998633623123169, 0.39783599972724915, 0.3926756978034973, 0.3886669874191284, 0.38465750217437744, 0.38328278064727783, 0.37742120027542114, 0.3745376467704773, 0.3685336410999298, 0.3661794364452362, 0.3600664436817169, 0.3635798990726471, 0.35483404994010925, 0.35233786702156067, 0.3487049341201782, 0.3410751223564148, 0.33605992794036865, 0.33328601717948914, 0.3255142271518707, 0.32295528054237366, 0.31576743721961975, 0.31076890230178833, 0.30954909324645996, 0.31160515546798706, 0.30620190501213074, 0.2988511919975281, 0.29187530279159546, 0.28716668486595154, 0.28161677718162537, 0.2785723805427551, 0.2683151066303253, 0.2663734555244446, 0.26089102029800415, 0.25515681505203247, 0.2511359453201294, 0.2468210756778717, 0.2394387274980545, 0.23891502618789673, 0.24163934588432312, 0.22668279707431793, 0.22844766080379486, 0.21701738238334656, 0.21398472785949707, 0.2079799324274063, 0.20417651534080505, 0.20402772724628448, 0.19968686997890472, 0.19547100365161896, 0.18750716745853424, 0.18154376745224, 0.18022413551807404, 0.1748771220445633, 0.1837814748287201, 0.17061230540275574, 0.1661999672651291, 0.16175755858421326, 0.1599092036485672, 0.16278831660747528, 0.17067274451255798, 0.1527884155511856, 0.1459304392337799, 0.14809949696063995, 0.14182420074939728, 0.13913185894489288, 0.1342596858739853], 'loss': [1.0301704406738281, 0.9017140865325928, 0.8849690556526184, 0.8730106353759766, 0.8636142611503601, 0.8533630967140198, 0.8392937779426575, 0.8326351046562195, 0.8234871625900269, 0.8132983446121216, 0.8044546842575073, 0.7970927953720093, 0.788115918636322, 0.7811266779899597, 0.7715156078338623, 0.7556873559951782, 0.7492085695266724, 0.7406418919563293, 0.724853515625, 0.722916841506958, 0.7129170894622803, 0.7046127915382385, 0.7004965543746948, 0.67694491147995, 0.6721926927566528, 0.6617558598518372, 0.6407459378242493, 0.6342057585716248, 0.6213361024856567, 0.616319477558136, 0.6088383197784424, 0.5895712971687317, 0.5769450068473816, 0.5741696357727051, 0.5746366381645203, 0.5531649589538574, 0.5496392846107483, 0.5521038174629211, 0.5254603028297424, 0.5113061666488647, 0.5085456967353821, 0.495735228061676, 0.4967646300792694, 0.47986525297164917, 0.4754962623119354, 0.46347135305404663, 0.4525390863418579, 0.4517606794834137, 0.4424692690372467, 0.453319787979126, 0.44542190432548523, 0.42140206694602966, 0.419461190700531, 0.41329485177993774, 0.40602898597717285, 0.39551490545272827, 0.3707234561443329, 0.37752464413642883, 0.3711673319339752, 0.36676329374313354, 0.3687988817691803, 0.34927093982696533, 0.3550879955291748, 0.34558698534965515, 0.3275868594646454, 0.3136332035064697, 0.3136240839958191, 0.30321112275123596, 0.30041056871414185, 0.2997225522994995, 0.2938635051250458, 0.2737188935279846, 0.28032881021499634, 0.28978005051612854, 0.27270397543907166, 0.2663322389125824, 0.26924529671669006, 0.25256800651550293, 0.2476036697626114, 0.23038853704929352, 0.23208314180374146, 0.22638531029224396, 0.21523624658584595, 0.21420754492282867, 0.22093327343463898, 0.21393199265003204, 0.222453311085701, 0.23609203100204468, 0.2025013267993927, 0.19284725189208984, 0.1856829971075058, 0.19354867935180664, 0.19648483395576477, 0.20151560008525848, 0.1893126517534256, 0.19938138127326965, 0.20445376634597778, 0.19149751961231232, 0.16485550999641418, 0.15025904774665833], 'val_attrition_output_accuracy': [0.8707482814788818, 0.8741496801376343, 0.8741496801376343, 0.8775510191917419, 0.8741496801376343, 0.8809523582458496, 0.8741496801376343, 0.8707482814788818, 0.8639456033706665, 0.8707482814788818, 0.8639456033706665, 0.8639456033706665, 0.8707482814788818, 0.795918345451355, 0.8673469424247742, 0.819727897644043, 0.8673469424247742, 0.853741466999054, 0.8571428656578064, 0.8503401279449463, 0.7925170063972473, 0.7857142686843872, 0.8401360511779785, 0.8299319744110107, 0.819727897644043, 0.8231292366981506, 0.8299319744110107, 0.8367347121238708, 0.8333333134651184, 0.7789115905761719, 0.8299319744110107, 0.8061224222183228, 0.7925170063972473, 0.7993197441101074, 0.8469387888908386, 0.8265306353569031, 0.7857142686843872, 0.8129251599311829, 0.7993197441101074, 0.7891156673431396, 0.7993197441101074, 0.8265306353569031, 0.7857142686843872, 0.7993197441101074, 0.8231292366981506, 0.8061224222183228, 0.8095238208770752, 0.8061224222183228, 0.7891156673431396, 0.8571428656578064, 0.7857142686843872, 0.795918345451355, 0.795918345451355, 0.7857142686843872, 0.8027210831642151, 0.7925170063972473, 0.8231292366981506, 0.8163265585899353, 0.7891156673431396, 0.7721088528633118, 0.7925170063972473, 0.7925170063972473, 0.7755101919174194, 0.7993197441101074, 0.8231292366981506, 0.8027210831642151, 0.8095238208770752, 0.7857142686843872, 0.7755101919174194, 0.7585033774375916, 0.7925170063972473, 0.7993197441101074, 0.8503401279449463, 0.8367347121238708, 0.7993197441101074, 0.7551020383834839, 0.8333333134651184, 0.8061224222183228, 0.7823129296302795, 0.8163265585899353, 0.7755101919174194, 0.7993197441101074, 0.819727897644043, 0.8333333134651184, 0.7755101919174194, 0.7993197441101074, 0.8435373902320862, 0.7993197441101074, 0.7789115905761719, 0.8163265585899353, 0.7857142686843872, 0.7789115905761719, 0.795918345451355, 0.8027210831642151, 0.7993197441101074, 0.8061224222183228, 0.795918345451355, 0.7857142686843872, 0.8027210831642151, 0.7789115905761719], 'val_attrition_output_loss': [0.3632712662220001, 0.3692481815814972, 0.34858936071395874, 0.3600052297115326, 0.3509865701198578, 0.3593819737434387, 0.35111480951309204, 0.36728355288505554, 0.3638177216053009, 0.3655841648578644, 0.37222352623939514, 0.358309805393219, 0.37401705980300903, 0.44827547669410706, 0.37723836302757263, 0.42227569222450256, 0.38505905866622925, 0.390552282333374, 0.43507060408592224, 0.42613038420677185, 0.45788702368736267, 0.527883768081665, 0.45786231756210327, 0.44128721952438354, 0.4669784605503082, 0.4555128514766693, 0.4639247953891754, 0.4815633296966553, 0.46791672706604004, 0.5799669027328491, 0.4947163164615631, 0.5094937086105347, 0.5517515540122986, 0.5127240419387817, 0.5253578424453735, 0.5288337469100952, 0.5562044978141785, 0.588364839553833, 0.5554372072219849, 0.6251705884933472, 0.6306020021438599, 0.6070141196250916, 0.6395732164382935, 0.6959568858146667, 0.6500993967056274, 0.6697850227355957, 0.7304372787475586, 0.6905430555343628, 0.7476733326911926, 0.7381595969200134, 0.7825896143913269, 0.7822950482368469, 0.7531968355178833, 0.7470378875732422, 0.7659988403320312, 0.8292332887649536, 0.8308591842651367, 0.8411269187927246, 0.8774520754814148, 0.9322931170463562, 0.8501664996147156, 0.9259679913520813, 0.8786616325378418, 0.8776924014091492, 0.8785015344619751, 0.9017316102981567, 0.9772188067436218, 0.984555721282959, 0.9711990356445312, 1.0860787630081177, 0.9840582609176636, 1.066404104232788, 1.1058266162872314, 1.0522791147232056, 1.082718849182129, 1.1167024374008179, 1.0316702127456665, 1.106022596359253, 1.103947639465332, 1.153090000152588, 1.136877417564392, 1.135121464729309, 1.1722396612167358, 1.1897624731063843, 1.3183410167694092, 1.1752808094024658, 1.2417490482330322, 1.2085585594177246, 1.365293025970459, 1.2624869346618652, 1.2342342138290405, 1.280745267868042, 1.2570345401763916, 1.2900415658950806, 1.3693256378173828, 1.36989426612854, 1.3196065425872803, 1.4046651124954224, 1.3566120862960815, 1.396679162979126], 'val_department_output_accuracy': [0.6666666865348816, 0.6666666865348816, 0.6666666865348816, 0.6666666865348816, 0.6666666865348816, 0.6666666865348816, 0.6666666865348816, 0.6666666865348816, 0.6666666865348816, 0.6666666865348816, 0.6666666865348816, 0.6666666865348816, 0.6666666865348816, 0.6666666865348816, 0.6598639488220215, 0.6394557952880859, 0.646258533000946, 0.6564626097679138, 0.6360543966293335, 0.6564626097679138, 0.6632652878761292, 0.6292517185211182, 0.6224489808082581, 0.6394557952880859, 0.6292517185211182, 0.6224489808082581, 0.6224489808082581, 0.5884353518486023, 0.6326530575752258, 0.6054421663284302, 0.6360543966293335, 0.6326530575752258, 0.5952380895614624, 0.6054421663284302, 0.6394557952880859, 0.5986394286155701, 0.5986394286155701, 0.5646258592605591, 0.6292517185211182, 0.5612244606018066, 0.6088435649871826, 0.6020408272743225, 0.5918367505073547, 0.5850340127944946, 0.5918367505073547, 0.6054421663284302, 0.5850340127944946, 0.581632673740387, 0.6224489808082581, 0.615646243095398, 0.5680271983146667, 0.5340136289596558, 0.5408163070678711, 0.581632673740387, 0.5884353518486023, 0.5850340127944946, 0.581632673740387, 0.5408163070678711, 0.5918367505073547, 0.5646258592605591, 0.5680271983146667, 0.5374149680137634, 0.5782312750816345, 0.5918367505073547, 0.5680271983146667, 0.5272108912467957, 0.5374149680137634, 0.5714285969734192, 0.5476190447807312, 0.5510203838348389, 0.5544217824935913, 0.5612244606018066, 0.5442177057266235, 0.5476190447807312, 0.5714285969734192, 0.5782312750816345, 0.5544217824935913, 0.5782312750816345, 0.5748299360275269, 0.5612244606018066, 0.557823121547699, 0.5952380895614624, 0.5748299360275269, 0.5952380895614624, 0.5340136289596558, 0.5714285969734192, 0.6122449040412903, 0.5510203838348389, 0.5544217824935913, 0.5272108912467957, 0.5408163070678711, 0.5714285969734192, 0.5204081535339355, 0.6122449040412903, 0.5884353518486023, 0.5748299360275269, 0.5782312750816345, 0.5374149680137634, 0.5782312750816345, 0.557823121547699], 'val_department_output_loss': [0.4812721312046051, 0.4767899513244629, 0.4762548804283142, 0.4777711033821106, 0.476213276386261, 0.4764345586299896, 0.4762095510959625, 0.47733449935913086, 0.47762832045555115, 0.4798088073730469, 0.48005184531211853, 0.48128899931907654, 0.48272705078125, 0.4857977330684662, 0.4866795539855957, 0.49136829376220703, 0.490680992603302, 0.49172306060791016, 0.4956703782081604, 0.4989188313484192, 0.4998389184474945, 0.49979543685913086, 0.5029637217521667, 0.5055383443832397, 0.504332423210144, 0.5155949592590332, 0.5122289657592773, 0.525124192237854, 0.517800509929657, 0.5270674824714661, 0.5205987095832825, 0.5289403200149536, 0.5297497510910034, 0.5346635580062866, 0.5315228700637817, 0.5314039587974548, 0.5360898971557617, 0.5473183393478394, 0.5432391166687012, 0.5539073348045349, 0.5479670763015747, 0.5522498488426208, 0.5614737272262573, 0.5645922422409058, 0.570942759513855, 0.5663853287696838, 0.5755077600479126, 0.5820509195327759, 0.5857498645782471, 0.5765572190284729, 0.5818824768066406, 0.5987547636032104, 0.5976769328117371, 0.599669873714447, 0.6056040525436401, 0.6123429536819458, 0.6169964075088501, 0.6282445788383484, 0.6304224729537964, 0.6360525488853455, 0.6431902647018433, 0.6450673937797546, 0.6492079496383667, 0.6729758977890015, 0.670885443687439, 0.6971312761306763, 0.6687960028648376, 0.6846038103103638, 0.6897743344306946, 0.6985191106796265, 0.6975933909416199, 0.7139198780059814, 0.7289594411849976, 0.7539548873901367, 0.7243332862854004, 0.7459694147109985, 0.7398188710212708, 0.7699182033538818, 0.7697673439979553, 0.7598212957382202, 0.7972163558006287, 0.7942653894424438, 0.7864754796028137, 0.8134514093399048, 0.840354323387146, 0.8341554403305054, 0.8564413189888, 0.8566087484359741, 0.8568840026855469, 0.8852565884590149, 0.9151573181152344, 0.8859471082687378, 0.9225077629089355, 0.9286988973617554, 0.8861172795295715, 0.9253619909286499, 0.9378730058670044, 0.9348840713500977, 0.9535152316093445, 0.9527069330215454], 'val_loss': [0.8646634817123413, 0.8665793538093567, 0.8504801392555237, 0.8609424233436584, 0.852089524269104, 0.861916184425354, 0.855514407157898, 0.8704678416252136, 0.8669196367263794, 0.8725705146789551, 0.8738411664962769, 0.8695257306098938, 0.8808728456497192, 0.9434430599212646, 0.8912506103515625, 0.925106942653656, 0.9039194583892822, 0.9085060954093933, 0.956060528755188, 0.951994001865387, 0.9725821614265442, 1.0204726457595825, 0.9759495258331299, 0.9737029075622559, 0.9818171262741089, 0.9888998866081238, 1.0006591081619263, 1.0237470865249634, 1.005020260810852, 1.1037570238113403, 1.0430681705474854, 1.0584594011306763, 1.0936235189437866, 1.0851551294326782, 1.0983301401138306, 1.0938652753829956, 1.1232579946517944, 1.1626485586166382, 1.141502857208252, 1.2145651578903198, 1.2098156213760376, 1.1998374462127686, 1.2299617528915405, 1.2810450792312622, 1.265386700630188, 1.2826849222183228, 1.3515952825546265, 1.292807698249817, 1.3668378591537476, 1.3992172479629517, 1.4090461730957031, 1.425781488418579, 1.4168484210968018, 1.3952302932739258, 1.4287642240524292, 1.4663970470428467, 1.5149627923965454, 1.547317385673523, 1.569189429283142, 1.6059328317642212, 1.563560962677002, 1.6407461166381836, 1.589464545249939, 1.6349164247512817, 1.6358757019042969, 1.674428105354309, 1.7223364114761353, 1.7537055015563965, 1.757492184638977, 1.8454469442367554, 1.7832807302474976, 1.8453923463821411, 1.9499036073684692, 1.915897250175476, 1.9211724996566772, 1.9622175693511963, 1.88178551197052, 1.9994224309921265, 1.951944351196289, 2.0278754234313965, 2.061394691467285, 2.0506818294525146, 2.0837855339050293, 2.137812852859497, 2.24690580368042, 2.1234662532806396, 2.249338150024414, 2.146016836166382, 2.2773027420043945, 2.2690529823303223, 2.301115036010742, 2.308328628540039, 2.3232998847961426, 2.3689115047454834, 2.410541296005249, 2.426787853240967, 2.4140326976776123, 2.489558219909668, 2.460914373397827, 2.5144503116607666]}\n"
     ]
    }
   ],
   "source": [
    "# Train the model\n",
    "fit_model = model.fit(X_train_scaled, \n",
    "                      [y_train_department_encoded, y_train_attrition_encoded], \n",
    "                      epochs=100, \n",
    "                      batch_size=32, \n",
    "                      validation_data=(X_test_scaled, [y_test_department_encoded, y_test_attrition_encoded]))\n",
    "\n",
    "# Display the training history\n",
    "print(fit_model.history)\n"
   ]
  },
  {
   "cell_type": "code",
   "execution_count": 18,
   "metadata": {
    "colab": {
     "base_uri": "https://localhost:8080/"
    },
    "id": "VsMoaQlgGc3U",
    "outputId": "1bd4e601-e964-4abc-ad83-aeecf6b696be"
   },
   "outputs": [
    {
     "name": "stdout",
     "output_type": "stream",
     "text": [
      "\u001b[1m10/10\u001b[0m \u001b[32m━━━━━━━━━━━━━━━━━━━━\u001b[0m\u001b[37m\u001b[0m \u001b[1m0s\u001b[0m 2ms/step - attrition_output_accuracy: 0.7804 - attrition_output_loss: 1.7360 - department_output_accuracy: 0.5176 - department_output_loss: 1.0732 - loss: 2.8312 \n"
     ]
    }
   ],
   "source": [
    "# Evaluate the model with the testing data\n",
    "evaluation_results = model.evaluate(X_test_scaled, [y_test_department_encoded, y_test_attrition_encoded])\n",
    "\n",
    "# Extract and print the accuracy for both department and attrition\n",
    "attrition_accuracy = evaluation_results[3]\n",
    "department_accuracy = evaluation_results[4]\n",
    "\n",
    "\n"
   ]
  },
  {
   "cell_type": "code",
   "execution_count": 19,
   "metadata": {
    "colab": {
     "base_uri": "https://localhost:8080/"
    },
    "id": "ZlCtlHi0Vt54",
    "outputId": "bc21ef3e-80c2-4b38-9c29-79515bc23dec",
    "scrolled": true
   },
   "outputs": [
    {
     "name": "stdout",
     "output_type": "stream",
     "text": [
      "Evaluation Results:\n",
      "Department predictions accuracy: 0.557823121547699\n",
      "Attrition predictions accuracy: 0.7789115905761719\n"
     ]
    }
   ],
   "source": [
    "# Print the accuracy for both department and attrition\n",
    "print(\"Evaluation Results:\")\n",
    "print(f\"Department predictions accuracy: {department_accuracy}\")\n",
    "print(f\"Attrition predictions accuracy: {attrition_accuracy}\")"
   ]
  },
  {
   "cell_type": "markdown",
   "metadata": {
    "id": "eGSyfsZfWOQM"
   },
   "source": [
    "# Summary\n",
    "\n",
    "In the provided space below, briefly answer the following questions.\n",
    "\n",
    "1. Is accuracy the best metric to use on this data? Why or why not?\n",
    "\n",
    "2. What activation functions did you choose for your output layers, and why?\n",
    "\n",
    "3. Can you name a few ways that this model might be improved?"
   ]
  },
  {
   "cell_type": "markdown",
   "metadata": {
    "id": "pi9SLpFnWvbF"
   },
   "source": [
    "YOUR ANSWERS HERE\n",
    "\n",
    "1. \n",
    "2. \n",
    "3. "
   ]
  },
  {
   "cell_type": "markdown",
   "metadata": {},
   "source": [
    "1. -  Accuracy might not always be the best metric, especially if the dataset is imbalanced. For example, if there are significantly more non-attrition cases than attrition cases, a model that predicts \"no attrition\" for all instances would still have high accuracy but would be useless. In such cases, metrics like precision, recall, F1-score, or the area under the ROC curve (AUC-ROC) can provide a better understanding of the model's performance.\n",
    "   \n",
    "2. -   **Department Output Layer**: I used the **softmax** activation function because it is suitable for multi-class classification problems. It converts the output into a probability distribution over the classes, ensuring that the sum of probabilities is 1.\n",
    "    \n",
    "-   **Attrition Output Layer**: I used the **sigmoid** activation function because it is suitable for binary classification problems. It outputs a probability value between 0 and 1, indicating the likelihood of attrition.\n",
    "\n",
    "3. -   **Feature Engineering**: Create new features that might be relevant to attrition and department prediction, such as interaction terms or aggregated features.\n",
    "    \n",
    "-   **Hyperparameter Tuning**: Experiment with different hyperparameters such as learning rate, batch size, and number of epochs to find the optimal settings.\n",
    "    \n",
    "-   **Model Architecture**: Try different model architectures, such as adding more layers, increasing the number of neurons, or using different activation functions.\n",
    "    \n",
    "-   **Regularization**: Use techniques like dropout, L1/L2 regularization to prevent overfitting.\n",
    "    \n",
    "-   **Ensemble Methods**: Combine predictions from multiple models using techniques like bagging, boosting, stacking, or voting to improve accuracy and robustness.\n",
    "    \n",
    "-   **Cross-Validation**: Use cross-validation to ensure that the model generalizes well to unseen data and to identify if the model is overfitting or underfitting."
   ]
  },
  {
   "cell_type": "code",
   "execution_count": null,
   "metadata": {},
   "outputs": [],
   "source": []
  }
 ],
 "metadata": {
  "colab": {
   "provenance": []
  },
  "kernelspec": {
   "display_name": "Python 3 (ipykernel)",
   "language": "python",
   "name": "python3"
  },
  "language_info": {
   "codemirror_mode": {
    "name": "ipython",
    "version": 3
   },
   "file_extension": ".py",
   "mimetype": "text/x-python",
   "name": "python",
   "nbconvert_exporter": "python",
   "pygments_lexer": "ipython3",
   "version": "3.12.4"
  },
  "vscode": {
   "interpreter": {
    "hash": "31f2aee4e71d21fbe5cf8b01ff0e069b9275f58929596ceb00d14d90e3e16cd6"
   }
  }
 },
 "nbformat": 4,
 "nbformat_minor": 4
}
